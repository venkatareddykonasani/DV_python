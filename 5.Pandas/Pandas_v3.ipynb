{
 "cells": [
  {
   "cell_type": "code",
   "execution_count": null,
   "metadata": {
    "executionInfo": {
     "elapsed": 442,
     "status": "ok",
     "timestamp": 1629982838391,
     "user": {
      "displayName": "Venkata Reddy Konasani",
      "photoUrl": "https://lh3.googleusercontent.com/a-/AOh14GgRJzFx4fqVQJHXjQQXudJ9DDxI9gyaFsy3CjVbI7Q=s64",
      "userId": "11388081409849462561"
     },
     "user_tz": -330
    },
    "id": "-YvShjNcQZE3"
   },
   "outputs": [],
   "source": [
    "import pandas as pd"
   ]
  },
  {
   "cell_type": "markdown",
   "metadata": {
    "id": "EaoxoyX-ezLk"
   },
   "source": [
    "# Importing"
   ]
  },
  {
   "cell_type": "code",
   "execution_count": null,
   "metadata": {
    "colab": {
     "base_uri": "https://localhost:8080/"
    },
    "executionInfo": {
     "elapsed": 6516,
     "status": "ok",
     "timestamp": 1629982845590,
     "user": {
      "displayName": "Venkata Reddy Konasani",
      "photoUrl": "https://lh3.googleusercontent.com/a-/AOh14GgRJzFx4fqVQJHXjQQXudJ9DDxI9gyaFsy3CjVbI7Q=s64",
      "userId": "11388081409849462561"
     },
     "user_tz": -330
    },
    "id": "Omxcl7ONEY1k",
    "outputId": "0fabbff1-e886-4b42-9e7a-00569aa17e45"
   },
   "outputs": [],
   "source": [
    "Sales = pd.read_csv(\"https://raw.githubusercontent.com/venkatareddykonasani/Datasets/master/Superstore%20Sales%20Data/Sales_by_country_v1.csv\")\n",
    "cc_usage = pd.read_csv(\"https://raw.githubusercontent.com/venkatareddykonasani/Datasets/master/Credit_Card_Cust_Usage/Card_Usage_v1.csv\")\n",
    "bank_data=pd.read_csv(\"https://raw.githubusercontent.com/venkatareddykonasani/Datasets/master/Bank%20Tele%20Marketing/bank_market.csv\")\n",
    "Online_Retail=pd.read_csv(\"https://raw.githubusercontent.com/venkatareddykonasani/Datasets/master/Online%20Retail%20Sales%20Data/Online%20Retail.csv\", encoding = \"ISO-8859-1\")\n",
    "kc_house_price=pd.read_csv(\"https://raw.githubusercontent.com/venkatareddykonasani/Datasets/master/kc_house_data/kc_house_data.csv\")\n",
    "rossmann_sales=pd.read_csv(\"https://raw.githubusercontent.com/venkatareddykonasani/Datasets/master/Rossmann_Store_Sales/Rossmann_Store_Sales.zip\", compression=\"zip\")\n",
    "air_bnb_ny=pd.read_csv(\"https://raw.githubusercontent.com/venkatareddykonasani/Datasets/master/AirBnB_NY/AB_NYC_2019.zip\", compression=\"zip\")\n",
    "auto_data=pd.read_csv(\"https://raw.githubusercontent.com/venkatareddykonasani/Datasets/master/Automobile%20Data%20Set/AutoDataset.csv\")\n",
    "gnp = pd.read_sas(r'D:\\Google Drive\\Training\\Datasets\\SAS datasets\\gnp.sas7bdat')\n",
    "wb_data = pd.read_excel(\"https://raw.githubusercontent.com/venkatareddykonasani/Datasets/master/World%20Bank%20Data/GDP.xlsx\")\n",
    "bill_data=pd.read_csv(\"https://raw.githubusercontent.com/venkatareddykonasani/Datasets/master/Telecom%20Data%20Analysis/Bill.csv\")\n",
    "comp_data=pd.read_csv(\"https://raw.githubusercontent.com/venkatareddykonasani/Datasets/master/Telecom%20Data%20Analysis/Complaints.csv\")\n",
    "orders=pd.read_csv(\"https://raw.githubusercontent.com/venkatareddykonasani/Datasets/master/TV%20Commercial%20Slots%20Analysis/orders.csv\")\n",
    "slots=pd.read_csv(\"https://raw.githubusercontent.com/venkatareddykonasani/Datasets/master/TV%20Commercial%20Slots%20Analysis/slots.csv\")"
   ]
  },
  {
   "cell_type": "code",
   "execution_count": null,
   "metadata": {},
   "outputs": [],
   "source": [
    "data_path=\"D:\\\\Google Drive\\\\Training\\\\Python\\\\Updated_2021\\\\Datasets\\\\\""
   ]
  },
  {
   "cell_type": "code",
   "execution_count": null,
   "metadata": {
    "id": "I5Qm_a5CU7Y_"
   },
   "outputs": [],
   "source": [
    "import pandas as pd     \n",
    "Sales = pd.read_csv(data_path+\"Sales_by_country_v1.csv\")\n",
    "print(Sales)"
   ]
  },
  {
   "cell_type": "code",
   "execution_count": null,
   "metadata": {
    "id": "LUyXP2IMVZ_v"
   },
   "outputs": [],
   "source": [
    "wb_data = pd.read_excel(data_path+\"GDP.xlsx\")\n",
    "print(wb_data)"
   ]
  },
  {
   "cell_type": "code",
   "execution_count": null,
   "metadata": {
    "id": "a-4a1gKzWePe"
   },
   "outputs": [],
   "source": [
    "wb_data = pd.read_excel(\"https://raw.githubusercontent.com/venkatareddykonasani/Datasets/master/World%20Bank%20Data/GDP.xlsx\" , sheet_name=\"Sheet1\")\n",
    "print(wb_data)"
   ]
  },
  {
   "cell_type": "markdown",
   "metadata": {},
   "source": [
    "## Zip files"
   ]
  },
  {
   "cell_type": "code",
   "execution_count": null,
   "metadata": {
    "colab": {
     "base_uri": "https://localhost:8080/"
    },
    "executionInfo": {
     "elapsed": 1150,
     "status": "ok",
     "timestamp": 1629971455563,
     "user": {
      "displayName": "Venkata Reddy Konasani",
      "photoUrl": "https://lh3.googleusercontent.com/a-/AOh14GgRJzFx4fqVQJHXjQQXudJ9DDxI9gyaFsy3CjVbI7Q=s64",
      "userId": "11388081409849462561"
     },
     "user_tz": -330
    },
    "id": "g8uDIUmn0RLI",
    "outputId": "69715d8e-f2e4-4319-bf99-9e6667f4b9fa"
   },
   "outputs": [],
   "source": [
    "air_bnb_ny=pd.read_csv(\"https://raw.githubusercontent.com/venkatareddykonasani/Datasets/master/AirBnB_NY/AB_NYC_2019.zip\", compression=\"zip\")\n",
    "print(air_bnb_ny.shape)"
   ]
  },
  {
   "cell_type": "code",
   "execution_count": null,
   "metadata": {
    "colab": {
     "base_uri": "https://localhost:8080/"
    },
    "executionInfo": {
     "elapsed": 487,
     "status": "ok",
     "timestamp": 1629971542189,
     "user": {
      "displayName": "Venkata Reddy Konasani",
      "photoUrl": "https://lh3.googleusercontent.com/a-/AOh14GgRJzFx4fqVQJHXjQQXudJ9DDxI9gyaFsy3CjVbI7Q=s64",
      "userId": "11388081409849462561"
     },
     "user_tz": -330
    },
    "id": "M6LIQxPZ34Gg",
    "outputId": "e27ac6e1-e3ad-435d-d987-1cbcd390b672"
   },
   "outputs": [],
   "source": [
    "air_bnb_ny.info()"
   ]
  },
  {
   "cell_type": "markdown",
   "metadata": {},
   "source": [
    "# Import data from SAS files"
   ]
  },
  {
   "cell_type": "code",
   "execution_count": null,
   "metadata": {},
   "outputs": [],
   "source": [
    "gnp = pd.read_sas(data_path+'gnp.sas7bdat')"
   ]
  },
  {
   "cell_type": "code",
   "execution_count": null,
   "metadata": {},
   "outputs": [],
   "source": [
    "gnp"
   ]
  },
  {
   "cell_type": "code",
   "execution_count": null,
   "metadata": {},
   "outputs": [],
   "source": [
    "#!pip install pyreadstat\n",
    "import pyreadstat\n",
    "gnp_data, meta = pyreadstat.read_sas7bdat(data_path+'gnp.sas7bdat')"
   ]
  },
  {
   "cell_type": "code",
   "execution_count": null,
   "metadata": {},
   "outputs": [],
   "source": [
    "gnp_data"
   ]
  },
  {
   "cell_type": "code",
   "execution_count": null,
   "metadata": {},
   "outputs": [],
   "source": [
    "type(gnp_data)"
   ]
  },
  {
   "cell_type": "markdown",
   "metadata": {
    "id": "nbeSOI_8e1qM"
   },
   "source": [
    "# Basic Commands"
   ]
  },
  {
   "cell_type": "code",
   "execution_count": null,
   "metadata": {
    "id": "2vesejh_X95R"
   },
   "outputs": [],
   "source": [
    "Sales.shape"
   ]
  },
  {
   "cell_type": "code",
   "execution_count": null,
   "metadata": {
    "id": "8HLKGBh9e4YU"
   },
   "outputs": [],
   "source": [
    "Sales.info()"
   ]
  },
  {
   "cell_type": "code",
   "execution_count": null,
   "metadata": {
    "id": "VpRN2A2De6BG"
   },
   "outputs": [],
   "source": [
    "Sales.columns"
   ]
  },
  {
   "cell_type": "code",
   "execution_count": null,
   "metadata": {
    "id": "9UU7D7rmfUCK"
   },
   "outputs": [],
   "source": [
    "Sales.head()"
   ]
  },
  {
   "cell_type": "code",
   "execution_count": null,
   "metadata": {
    "id": "2RBrHFivfalA"
   },
   "outputs": [],
   "source": [
    "Sales.tail()"
   ]
  },
  {
   "cell_type": "code",
   "execution_count": null,
   "metadata": {
    "id": "z-vA0wmFfpz9"
   },
   "outputs": [],
   "source": [
    "Sales.sample(5)"
   ]
  },
  {
   "cell_type": "code",
   "execution_count": null,
   "metadata": {
    "id": "6pi9JgqHfcx6"
   },
   "outputs": [],
   "source": [
    "Sales.describe()"
   ]
  },
  {
   "cell_type": "code",
   "execution_count": null,
   "metadata": {
    "id": "gk-V_iyigJCa"
   },
   "outputs": [],
   "source": [
    "Sales[\"unitsSold\"].describe()"
   ]
  },
  {
   "cell_type": "code",
   "execution_count": null,
   "metadata": {
    "id": "frLKLIAAgLBW"
   },
   "outputs": [],
   "source": [
    "Sales[\"salesChannel\"].value_counts()"
   ]
  },
  {
   "cell_type": "markdown",
   "metadata": {
    "id": "1m2sfSS9TCM-"
   },
   "source": [
    "# Lab : basic Commands"
   ]
  },
  {
   "cell_type": "code",
   "execution_count": null,
   "metadata": {
    "colab": {
     "base_uri": "https://localhost:8080/",
     "height": 602
    },
    "executionInfo": {
     "elapsed": 890,
     "status": "ok",
     "timestamp": 1629945451864,
     "user": {
      "displayName": "Venkata Reddy Konasani",
      "photoUrl": "https://lh3.googleusercontent.com/a-/AOh14GgRJzFx4fqVQJHXjQQXudJ9DDxI9gyaFsy3CjVbI7Q=s64",
      "userId": "11388081409849462561"
     },
     "user_tz": -330
    },
    "id": "pfcq0A5gTGHu",
    "outputId": "dd56fe92-12a2-4b2c-e3ea-f4e62747da97"
   },
   "outputs": [],
   "source": [
    "cc_usage = pd.read_csv(data_path+'Card_Usage_v1.csv')\n",
    "cc_usage"
   ]
  },
  {
   "cell_type": "code",
   "execution_count": null,
   "metadata": {
    "id": "Yl0diMlzTb91"
   },
   "outputs": [],
   "source": [
    "cc_usage.shape"
   ]
  },
  {
   "cell_type": "code",
   "execution_count": null,
   "metadata": {
    "id": "taj-d6ZnTcBF"
   },
   "outputs": [],
   "source": [
    "cc_usage.info()"
   ]
  },
  {
   "cell_type": "code",
   "execution_count": null,
   "metadata": {
    "id": "NqA2Fbu6TcE7"
   },
   "outputs": [],
   "source": [
    "cc_usage.columns\n",
    "cc_usage.head(10)\n",
    "cc_usage.tail(10)\n",
    "cc_usage.sample(300)\n",
    "cc_usage.sample(300, random_state=33)"
   ]
  },
  {
   "cell_type": "code",
   "execution_count": null,
   "metadata": {
    "id": "q75SbaTzTcHK"
   },
   "outputs": [],
   "source": [
    "cc_usage[\"Credit_Limit\"].describe()"
   ]
  },
  {
   "cell_type": "code",
   "execution_count": null,
   "metadata": {
    "id": "kaicba9OTcKE"
   },
   "outputs": [],
   "source": [
    "cc_usage[\"Card_Category\"].value_counts()"
   ]
  },
  {
   "cell_type": "markdown",
   "metadata": {},
   "source": [
    "# Pandas GUI"
   ]
  },
  {
   "cell_type": "code",
   "execution_count": null,
   "metadata": {},
   "outputs": [],
   "source": [
    "#!pip install pandasgui"
   ]
  },
  {
   "cell_type": "code",
   "execution_count": null,
   "metadata": {},
   "outputs": [],
   "source": [
    "from pandasgui import show\n",
    "\n",
    "show(cc_usage)"
   ]
  },
  {
   "cell_type": "markdown",
   "metadata": {
    "id": "1cdF2YYwoIDb"
   },
   "source": [
    "# Access rows"
   ]
  },
  {
   "cell_type": "code",
   "execution_count": null,
   "metadata": {
    "colab": {
     "base_uri": "https://localhost:8080/",
     "height": 362
    },
    "executionInfo": {
     "elapsed": 5,
     "status": "ok",
     "timestamp": 1629968952517,
     "user": {
      "displayName": "Venkata Reddy Konasani",
      "photoUrl": "https://lh3.googleusercontent.com/a-/AOh14GgRJzFx4fqVQJHXjQQXudJ9DDxI9gyaFsy3CjVbI7Q=s64",
      "userId": "11388081409849462561"
     },
     "user_tz": -330
    },
    "id": "1QHVl0bhoMVj",
    "outputId": "2e9d614c-5fa8-471b-e40d-eed64bb22d20"
   },
   "outputs": [],
   "source": [
    "Sales.iloc[0:5]"
   ]
  },
  {
   "cell_type": "code",
   "execution_count": null,
   "metadata": {
    "colab": {
     "base_uri": "https://localhost:8080/",
     "height": 143
    },
    "executionInfo": {
     "elapsed": 300,
     "status": "ok",
     "timestamp": 1629968997524,
     "user": {
      "displayName": "Venkata Reddy Konasani",
      "photoUrl": "https://lh3.googleusercontent.com/a-/AOh14GgRJzFx4fqVQJHXjQQXudJ9DDxI9gyaFsy3CjVbI7Q=s64",
      "userId": "11388081409849462561"
     },
     "user_tz": -330
    },
    "id": "IAd3c2L5oUw7",
    "outputId": "7f7abeba-da48-48b4-c637-168246aea1b6"
   },
   "outputs": [],
   "source": [
    "Sales.iloc[[1,9,10]]"
   ]
  },
  {
   "cell_type": "markdown",
   "metadata": {
    "id": "9NywYHxykQlT"
   },
   "source": [
    "# Access Columns"
   ]
  },
  {
   "cell_type": "code",
   "execution_count": null,
   "metadata": {
    "colab": {
     "base_uri": "https://localhost:8080/",
     "height": 422
    },
    "executionInfo": {
     "elapsed": 13,
     "status": "ok",
     "timestamp": 1629969275015,
     "user": {
      "displayName": "Venkata Reddy Konasani",
      "photoUrl": "https://lh3.googleusercontent.com/a-/AOh14GgRJzFx4fqVQJHXjQQXudJ9DDxI9gyaFsy3CjVbI7Q=s64",
      "userId": "11388081409849462561"
     },
     "user_tz": -330
    },
    "id": "0dAOlCJ1mfon",
    "outputId": "5a431215-4e64-4b3d-f799-902f62d27071"
   },
   "outputs": [],
   "source": [
    "column_names=['custId', 'custName', 'custCountry']\n",
    "Sales[column_names]"
   ]
  },
  {
   "cell_type": "code",
   "execution_count": null,
   "metadata": {
    "colab": {
     "base_uri": "https://localhost:8080/",
     "height": 422
    },
    "executionInfo": {
     "elapsed": 19,
     "status": "ok",
     "timestamp": 1629969275430,
     "user": {
      "displayName": "Venkata Reddy Konasani",
      "photoUrl": "https://lh3.googleusercontent.com/a-/AOh14GgRJzFx4fqVQJHXjQQXudJ9DDxI9gyaFsy3CjVbI7Q=s64",
      "userId": "11388081409849462561"
     },
     "user_tz": -330
    },
    "id": "qNnba42anLiF",
    "outputId": "d079024b-f5b1-489d-e329-c2fe2d79c683"
   },
   "outputs": [],
   "source": [
    "Sales.iloc[:,0:4]"
   ]
  },
  {
   "cell_type": "code",
   "execution_count": null,
   "metadata": {
    "colab": {
     "base_uri": "https://localhost:8080/",
     "height": 205
    },
    "executionInfo": {
     "elapsed": 18,
     "status": "ok",
     "timestamp": 1629969275433,
     "user": {
      "displayName": "Venkata Reddy Konasani",
      "photoUrl": "https://lh3.googleusercontent.com/a-/AOh14GgRJzFx4fqVQJHXjQQXudJ9DDxI9gyaFsy3CjVbI7Q=s64",
      "userId": "11388081409849462561"
     },
     "user_tz": -330
    },
    "id": "8xU7VA09niWs",
    "outputId": "40b12393-8fb8-4661-eb06-af48e9dcd604"
   },
   "outputs": [],
   "source": [
    "Sales.iloc[0:5:,0:4]"
   ]
  },
  {
   "cell_type": "code",
   "execution_count": null,
   "metadata": {
    "colab": {
     "base_uri": "https://localhost:8080/"
    },
    "executionInfo": {
     "elapsed": 8,
     "status": "ok",
     "timestamp": 1629969277044,
     "user": {
      "displayName": "Venkata Reddy Konasani",
      "photoUrl": "https://lh3.googleusercontent.com/a-/AOh14GgRJzFx4fqVQJHXjQQXudJ9DDxI9gyaFsy3CjVbI7Q=s64",
      "userId": "11388081409849462561"
     },
     "user_tz": -330
    },
    "id": "t1vUmPJcgOrc",
    "outputId": "277048da-7ab3-4eed-8e90-2a8250eec5b2"
   },
   "outputs": [],
   "source": [
    "Sales.dtypes"
   ]
  },
  {
   "cell_type": "markdown",
   "metadata": {
    "id": "Ste1sAVyvxCw"
   },
   "source": [
    "# .iloc vs .loc"
   ]
  },
  {
   "cell_type": "code",
   "execution_count": null,
   "metadata": {},
   "outputs": [],
   "source": [
    "Sales1=Sales.iloc[20:30]"
   ]
  },
  {
   "cell_type": "code",
   "execution_count": null,
   "metadata": {
    "colab": {
     "base_uri": "https://localhost:8080/",
     "height": 205
    },
    "executionInfo": {
     "elapsed": 12,
     "status": "ok",
     "timestamp": 1629969037370,
     "user": {
      "displayName": "Venkata Reddy Konasani",
      "photoUrl": "https://lh3.googleusercontent.com/a-/AOh14GgRJzFx4fqVQJHXjQQXudJ9DDxI9gyaFsy3CjVbI7Q=s64",
      "userId": "11388081409849462561"
     },
     "user_tz": -330
    },
    "id": "Ag0M86UNuY7n",
    "outputId": "65e0d2c2-238d-4e37-d9a1-867281121aed"
   },
   "outputs": [],
   "source": [
    "Sales1.index"
   ]
  },
  {
   "cell_type": "code",
   "execution_count": null,
   "metadata": {},
   "outputs": [],
   "source": [
    "Sales1.iloc[0:5]"
   ]
  },
  {
   "cell_type": "code",
   "execution_count": null,
   "metadata": {
    "colab": {
     "base_uri": "https://localhost:8080/",
     "height": 49
    },
    "executionInfo": {
     "elapsed": 445,
     "status": "ok",
     "timestamp": 1629969045997,
     "user": {
      "displayName": "Venkata Reddy Konasani",
      "photoUrl": "https://lh3.googleusercontent.com/a-/AOh14GgRJzFx4fqVQJHXjQQXudJ9DDxI9gyaFsy3CjVbI7Q=s64",
      "userId": "11388081409849462561"
     },
     "user_tz": -330
    },
    "id": "ZMWRB-JYuZU4",
    "outputId": "7082af4f-3348-460a-86e6-a85ecddadc60"
   },
   "outputs": [],
   "source": [
    "Sales1.loc[0:5]"
   ]
  },
  {
   "cell_type": "code",
   "execution_count": null,
   "metadata": {
    "colab": {
     "base_uri": "https://localhost:8080/",
     "height": 311
    },
    "executionInfo": {
     "elapsed": 322,
     "status": "error",
     "timestamp": 1629969414048,
     "user": {
      "displayName": "Venkata Reddy Konasani",
      "photoUrl": "https://lh3.googleusercontent.com/a-/AOh14GgRJzFx4fqVQJHXjQQXudJ9DDxI9gyaFsy3CjVbI7Q=s64",
      "userId": "11388081409849462561"
     },
     "user_tz": -330
    },
    "id": "t8DuZfFUv2Eh",
    "outputId": "3d1e42f0-509c-4640-ee24-7ee82a3d4f00"
   },
   "outputs": [],
   "source": [
    "Sales.loc[0:5, 0:2]"
   ]
  },
  {
   "cell_type": "code",
   "execution_count": null,
   "metadata": {
    "colab": {
     "base_uri": "https://localhost:8080/",
     "height": 237
    },
    "executionInfo": {
     "elapsed": 6,
     "status": "ok",
     "timestamp": 1629969414527,
     "user": {
      "displayName": "Venkata Reddy Konasani",
      "photoUrl": "https://lh3.googleusercontent.com/a-/AOh14GgRJzFx4fqVQJHXjQQXudJ9DDxI9gyaFsy3CjVbI7Q=s64",
      "userId": "11388081409849462561"
     },
     "user_tz": -330
    },
    "id": "MPz1NC-BvXDp",
    "outputId": "43b71bbe-ed5d-410e-98b8-2153055a1924"
   },
   "outputs": [],
   "source": [
    "Sales.loc[0:5, column_names]"
   ]
  },
  {
   "cell_type": "markdown",
   "metadata": {
    "id": "GWtvAmTUliWb"
   },
   "source": [
    "# Accessing Specific type of Columns only "
   ]
  },
  {
   "cell_type": "code",
   "execution_count": null,
   "metadata": {
    "id": "mL0owbrHkVff"
   },
   "outputs": [],
   "source": [
    "Sales_numerics = Sales.select_dtypes(include=[\"int64\",\"float64\"])\n",
    "Sales_numerics.info()"
   ]
  },
  {
   "cell_type": "code",
   "execution_count": null,
   "metadata": {
    "id": "_pMTExoAl_KG"
   },
   "outputs": [],
   "source": [
    "Sales_objects = Sales.select_dtypes(include=[\"object\"])\n",
    "Sales_objects.info()"
   ]
  },
  {
   "cell_type": "code",
   "execution_count": null,
   "metadata": {
    "id": "ZOMwQysxmdBc"
   },
   "outputs": [],
   "source": [
    "Sales_non_objects = Sales.select_dtypes(exclude=[\"object\"])\n",
    "Sales_non_objects.info()"
   ]
  },
  {
   "cell_type": "markdown",
   "metadata": {
    "id": "Ldu39QSMuMlF"
   },
   "source": [
    "# Drop rows and columns"
   ]
  },
  {
   "cell_type": "code",
   "execution_count": null,
   "metadata": {
    "id": "9syqwZ3ut0XI"
   },
   "outputs": [],
   "source": [
    "wb_data"
   ]
  },
  {
   "cell_type": "code",
   "execution_count": null,
   "metadata": {
    "id": "0jCm3uJXuXOP"
   },
   "outputs": [],
   "source": [
    "wb_data.drop(range(0,10))"
   ]
  },
  {
   "cell_type": "code",
   "execution_count": null,
   "metadata": {
    "id": "sgJA7oSbuoAl"
   },
   "outputs": [],
   "source": [
    "wb_data.drop([\"Country_code\"], axis=1)"
   ]
  },
  {
   "cell_type": "markdown",
   "metadata": {
    "id": "G7jITKYm0wuk"
   },
   "source": [
    "# Lab: Accessing the data"
   ]
  },
  {
   "cell_type": "code",
   "execution_count": null,
   "metadata": {
    "id": "akv_PvmF0yAk"
   },
   "outputs": [],
   "source": [
    "bank_data=pd.read_csv(data_path+\"bank_market.csv\")"
   ]
  },
  {
   "cell_type": "code",
   "execution_count": null,
   "metadata": {
    "id": "HDseIm7P0045"
   },
   "outputs": [],
   "source": [
    "bank_data.info()"
   ]
  },
  {
   "cell_type": "code",
   "execution_count": null,
   "metadata": {
    "id": "EVk3dT5N1A9U"
   },
   "outputs": [],
   "source": [
    "#Select first 1000 rows only\n",
    "bank_data1=bank_data.head(1000)\n",
    "bank_data1.shape"
   ]
  },
  {
   "cell_type": "code",
   "execution_count": null,
   "metadata": {
    "id": "wV8qcL511Coh"
   },
   "outputs": [],
   "source": [
    "#Select only four columns \"Cust_num\"  \"age” \"default\" and  \"balance\"\n",
    "bank_data2=bank_data[[\"Cust_num\",\"age\",\"default\",\"balance\"]]\n",
    "bank_data2.head(5)"
   ]
  },
  {
   "cell_type": "code",
   "execution_count": null,
   "metadata": {
    "id": "KSwMl-aq1FzV"
   },
   "outputs": [],
   "source": [
    "#Select 20,000 to 40,000 observations along with four variables  \"Cust_num\"  \"job\"       \"marital\" and   \"education\"\n",
    "bank_data3=bank_data[[\"Cust_num\",\"age\",\"default\",\"balance\"]][20000:40000]\n",
    "bank_data3.head(5)"
   ]
  },
  {
   "cell_type": "code",
   "execution_count": null,
   "metadata": {
    "id": "W-oeCb7f1IA1"
   },
   "outputs": [],
   "source": [
    "#Select 5000 to 6000 observations drop  \"poutcome“ and  \"y\"\n",
    "bank_data4=bank_data.drop(['poutcome','y'], axis=1)[5000:6000]\n",
    "bank_data4.head(5)"
   ]
  },
  {
   "cell_type": "code",
   "execution_count": null,
   "metadata": {},
   "outputs": [],
   "source": [
    "bank_data.iloc[:,-1]"
   ]
  },
  {
   "cell_type": "code",
   "execution_count": null,
   "metadata": {
    "id": "E0F1thbyVoVo"
   },
   "outputs": [],
   "source": [
    "col_length=len(bank_data.columns)\n",
    "bank_data.iloc[:,col_length-1]"
   ]
  },
  {
   "cell_type": "code",
   "execution_count": null,
   "metadata": {
    "id": "JAc2iUwlWh7J"
   },
   "outputs": [],
   "source": [
    "bank_data.select_dtypes(include=[\"int64\",\"float64\"])"
   ]
  },
  {
   "cell_type": "markdown",
   "metadata": {
    "id": "HNEr1HDxxw3s"
   },
   "source": [
    "# Filter Conditions"
   ]
  },
  {
   "cell_type": "code",
   "execution_count": null,
   "metadata": {
    "id": "Z51wHDmVwoHr"
   },
   "outputs": [],
   "source": [
    "bank_data=pd.read_csv(data_path+\"bank_market.csv\")"
   ]
  },
  {
   "cell_type": "code",
   "execution_count": null,
   "metadata": {
    "colab": {
     "base_uri": "https://localhost:8080/"
    },
    "executionInfo": {
     "elapsed": 10,
     "status": "ok",
     "timestamp": 1629966481779,
     "user": {
      "displayName": "Venkata Reddy Konasani",
      "photoUrl": "https://lh3.googleusercontent.com/a-/AOh14GgRJzFx4fqVQJHXjQQXudJ9DDxI9gyaFsy3CjVbI7Q=s64",
      "userId": "11388081409849462561"
     },
     "user_tz": -330
    },
    "id": "FBhiW1zux8qk",
    "outputId": "f32b8b93-44db-498e-9ce2-dbec11eecb97"
   },
   "outputs": [],
   "source": [
    "bank_data.info()"
   ]
  },
  {
   "cell_type": "code",
   "execution_count": null,
   "metadata": {
    "colab": {
     "base_uri": "https://localhost:8080/"
    },
    "executionInfo": {
     "elapsed": 11,
     "status": "ok",
     "timestamp": 1629966481782,
     "user": {
      "displayName": "Venkata Reddy Konasani",
      "photoUrl": "https://lh3.googleusercontent.com/a-/AOh14GgRJzFx4fqVQJHXjQQXudJ9DDxI9gyaFsy3CjVbI7Q=s64",
      "userId": "11388081409849462561"
     },
     "user_tz": -330
    },
    "id": "Jo-pyepXx9a9",
    "outputId": "b93c4d34-a830-4210-ec4a-f9884be7ae75"
   },
   "outputs": [],
   "source": [
    "bank_subset=bank_data[bank_data['age']>40]\n",
    "bank_subset"
   ]
  },
  {
   "cell_type": "code",
   "execution_count": null,
   "metadata": {
    "colab": {
     "base_uri": "https://localhost:8080/"
    },
    "executionInfo": {
     "elapsed": 305,
     "status": "ok",
     "timestamp": 1629966686790,
     "user": {
      "displayName": "Venkata Reddy Konasani",
      "photoUrl": "https://lh3.googleusercontent.com/a-/AOh14GgRJzFx4fqVQJHXjQQXudJ9DDxI9gyaFsy3CjVbI7Q=s64",
      "userId": "11388081409849462561"
     },
     "user_tz": -330
    },
    "id": "iD2P0TSiyM0b",
    "outputId": "b7cb9b13-f9de-4ca2-9b1d-91ff295a9d64"
   },
   "outputs": [],
   "source": [
    "#And condition & filters\n",
    "bank_subset1=bank_data[(bank_data['age']>40) &  (bank_data['loan']==\"no\")]\n",
    "bank_subset1"
   ]
  },
  {
   "cell_type": "code",
   "execution_count": null,
   "metadata": {
    "colab": {
     "base_uri": "https://localhost:8080/",
     "height": 442
    },
    "executionInfo": {
     "elapsed": 367,
     "status": "ok",
     "timestamp": 1629966482140,
     "user": {
      "displayName": "Venkata Reddy Konasani",
      "photoUrl": "https://lh3.googleusercontent.com/a-/AOh14GgRJzFx4fqVQJHXjQQXudJ9DDxI9gyaFsy3CjVbI7Q=s64",
      "userId": "11388081409849462561"
     },
     "user_tz": -330
    },
    "id": "AWva8pgdyOnU",
    "outputId": "ceff5e2b-fda8-4e75-b554-46d1e41eb1c8"
   },
   "outputs": [],
   "source": [
    "#OR condition & filters\n",
    "bank_subset2=bank_data[(bank_data['age']>40) |  (bank_data['loan']==\"no\")]\n",
    "bank_subset2"
   ]
  },
  {
   "cell_type": "markdown",
   "metadata": {
    "id": "dlRGw5qk1kqH"
   },
   "source": [
    "# Lab: Filter conditions"
   ]
  },
  {
   "cell_type": "code",
   "execution_count": null,
   "metadata": {
    "colab": {
     "base_uri": "https://localhost:8080/"
    },
    "executionInfo": {
     "elapsed": 10,
     "status": "ok",
     "timestamp": 1629966482140,
     "user": {
      "displayName": "Venkata Reddy Konasani",
      "photoUrl": "https://lh3.googleusercontent.com/a-/AOh14GgRJzFx4fqVQJHXjQQXudJ9DDxI9gyaFsy3CjVbI7Q=s64",
      "userId": "11388081409849462561"
     },
     "user_tz": -330
    },
    "id": "KITvoDlyyQCU",
    "outputId": "dda1fcd0-6c5a-431e-8ac7-945976a87ea6"
   },
   "outputs": [],
   "source": [
    "#Data : “./Automobile Data Set/AutoDataset.csv”\n",
    "import pandas as pd\n",
    "auto_data=pd.read_csv(data_path+\"AutoDataset.csv\")\n",
    "auto_data.info()"
   ]
  },
  {
   "cell_type": "code",
   "execution_count": null,
   "metadata": {
    "id": "vQL60Tqz1xVF"
   },
   "outputs": [],
   "source": [
    "#Create a new dataset for exclusively Toyota cars\n",
    "auto_data1=auto_data[auto_data[' make']=='toyota']\n",
    "auto_data1"
   ]
  },
  {
   "cell_type": "code",
   "execution_count": null,
   "metadata": {},
   "outputs": [],
   "source": [
    "mask=auto_data[' make']=='toyota'\n",
    "auto_data[mask]"
   ]
  },
  {
   "cell_type": "code",
   "execution_count": null,
   "metadata": {
    "id": "ut7gYYgz2Jya"
   },
   "outputs": [],
   "source": [
    "#Create a new dataset for all cars with city.mpg greater than 30 and engine size is less than 120\n",
    "auto_data2=auto_data[(auto_data[' city-mpg']>30) & (auto_data[' engine-size']<120)]\n",
    "auto_data2"
   ]
  },
  {
   "cell_type": "code",
   "execution_count": null,
   "metadata": {
    "id": "Ws7Ah2Y02Lnq"
   },
   "outputs": [],
   "source": [
    "#Create a new dataset by taking only  sedan cars. Keep only four variables(Make, body style, fuel type, price) in the final dataset\n",
    "auto_data3=auto_data[auto_data[' body-style']=='sedan']\n",
    "auto_data3"
   ]
  },
  {
   "cell_type": "code",
   "execution_count": null,
   "metadata": {
    "id": "WWJgZ7Hn2NM_"
   },
   "outputs": [],
   "source": [
    "auto_data4=auto_data3[[' make',' body-style',' fuel-type',' price']]\n",
    "auto_data4"
   ]
  },
  {
   "cell_type": "code",
   "execution_count": null,
   "metadata": {
    "id": "uOkpH_152O4F"
   },
   "outputs": [],
   "source": [
    "#Create a new dataset by taking Audi, BMW or Porsche company makes. Drop two variables from the resultant dataset(price and normalized losses)\n",
    "auto_data5=auto_data[(auto_data[' make']=='audi') | (auto_data[' make']=='bmw') | (auto_data[' make']=='porsche') ]\n",
    "auto_data5\n",
    "\n",
    "#or \n",
    "auto_data5_1=auto_data[auto_data[\" make\"].isin([\"audi\",\"bmw\",\"porsche\"])]\n",
    "auto_data5_1"
   ]
  },
  {
   "cell_type": "markdown",
   "metadata": {
    "id": "qxB1AVBujQTo"
   },
   "source": [
    "# Working with Index "
   ]
  },
  {
   "cell_type": "code",
   "execution_count": null,
   "metadata": {
    "colab": {
     "base_uri": "https://localhost:8080/"
    },
    "executionInfo": {
     "elapsed": 306,
     "status": "ok",
     "timestamp": 1629966689490,
     "user": {
      "displayName": "Venkata Reddy Konasani",
      "photoUrl": "https://lh3.googleusercontent.com/a-/AOh14GgRJzFx4fqVQJHXjQQXudJ9DDxI9gyaFsy3CjVbI7Q=s64",
      "userId": "11388081409849462561"
     },
     "user_tz": -330
    },
    "id": "kqVufrt1jzMu",
    "outputId": "8f9b5fe3-2207-4117-c9bc-403b2645e09d"
   },
   "outputs": [],
   "source": [
    "bank_data.index"
   ]
  },
  {
   "cell_type": "code",
   "execution_count": null,
   "metadata": {
    "colab": {
     "base_uri": "https://localhost:8080/"
    },
    "executionInfo": {
     "elapsed": 526,
     "status": "ok",
     "timestamp": 1629966691405,
     "user": {
      "displayName": "Venkata Reddy Konasani",
      "photoUrl": "https://lh3.googleusercontent.com/a-/AOh14GgRJzFx4fqVQJHXjQQXudJ9DDxI9gyaFsy3CjVbI7Q=s64",
      "userId": "11388081409849462561"
     },
     "user_tz": -330
    },
    "id": "iPqTH7kIifmF",
    "outputId": "85a0d73f-0280-4470-9538-0f30d5e2ae98"
   },
   "outputs": [],
   "source": [
    "bank_subset1.index"
   ]
  },
  {
   "cell_type": "code",
   "execution_count": null,
   "metadata": {
    "colab": {
     "base_uri": "https://localhost:8080/"
    },
    "executionInfo": {
     "elapsed": 317,
     "status": "ok",
     "timestamp": 1629966695285,
     "user": {
      "displayName": "Venkata Reddy Konasani",
      "photoUrl": "https://lh3.googleusercontent.com/a-/AOh14GgRJzFx4fqVQJHXjQQXudJ9DDxI9gyaFsy3CjVbI7Q=s64",
      "userId": "11388081409849462561"
     },
     "user_tz": -330
    },
    "id": "w_sS7duAj5IZ",
    "outputId": "ec514e65-6a45-4477-99c2-9b2bcc4b09e8"
   },
   "outputs": [],
   "source": [
    "bank_subset1_1=bank_subset1.reset_index()\n",
    "bank_subset1_1.index"
   ]
  },
  {
   "cell_type": "code",
   "execution_count": null,
   "metadata": {
    "colab": {
     "base_uri": "https://localhost:8080/",
     "height": 225
    },
    "executionInfo": {
     "elapsed": 294,
     "status": "ok",
     "timestamp": 1629966697900,
     "user": {
      "displayName": "Venkata Reddy Konasani",
      "photoUrl": "https://lh3.googleusercontent.com/a-/AOh14GgRJzFx4fqVQJHXjQQXudJ9DDxI9gyaFsy3CjVbI7Q=s64",
      "userId": "11388081409849462561"
     },
     "user_tz": -330
    },
    "id": "1Cv6JvQCjoKP",
    "outputId": "8585d35d-3f00-4318-fc90-829f924eb675"
   },
   "outputs": [],
   "source": [
    "bank_subset1_1.iloc[range(0, 5)]"
   ]
  },
  {
   "cell_type": "code",
   "execution_count": null,
   "metadata": {
    "colab": {
     "base_uri": "https://localhost:8080/"
    },
    "executionInfo": {
     "elapsed": 309,
     "status": "ok",
     "timestamp": 1629966717118,
     "user": {
      "displayName": "Venkata Reddy Konasani",
      "photoUrl": "https://lh3.googleusercontent.com/a-/AOh14GgRJzFx4fqVQJHXjQQXudJ9DDxI9gyaFsy3CjVbI7Q=s64",
      "userId": "11388081409849462561"
     },
     "user_tz": -330
    },
    "id": "yhbjiVxIliWS",
    "outputId": "27b1b77c-793f-457d-8aaa-36e1ac586ee2"
   },
   "outputs": [],
   "source": [
    "bank_subset1_1=bank_subset1.reset_index(drop=True)\n",
    "bank_subset1_1.index"
   ]
  },
  {
   "cell_type": "code",
   "execution_count": null,
   "metadata": {
    "colab": {
     "base_uri": "https://localhost:8080/",
     "height": 225
    },
    "executionInfo": {
     "elapsed": 331,
     "status": "ok",
     "timestamp": 1629966726950,
     "user": {
      "displayName": "Venkata Reddy Konasani",
      "photoUrl": "https://lh3.googleusercontent.com/a-/AOh14GgRJzFx4fqVQJHXjQQXudJ9DDxI9gyaFsy3CjVbI7Q=s64",
      "userId": "11388081409849462561"
     },
     "user_tz": -330
    },
    "id": "KZBHq4qTlm4R",
    "outputId": "8342131d-f172-4896-e27a-7221a65c5a89"
   },
   "outputs": [],
   "source": [
    "bank_subset1_1.iloc[range(0, 5)]"
   ]
  },
  {
   "cell_type": "markdown",
   "metadata": {},
   "source": [
    "# Rename"
   ]
  },
  {
   "cell_type": "code",
   "execution_count": null,
   "metadata": {},
   "outputs": [],
   "source": [
    "Sales.columns"
   ]
  },
  {
   "cell_type": "code",
   "execution_count": null,
   "metadata": {},
   "outputs": [],
   "source": [
    "Sales=Sales.rename(columns={\"dateSold\":\"DateSold_new\"})\n",
    "Sales.columns                           "
   ]
  },
  {
   "cell_type": "code",
   "execution_count": null,
   "metadata": {},
   "outputs": [],
   "source": [
    "Sales=Sales.rename(columns={\"dateSold\":\"DateSold_new\", \"custCountry\": \"Country\"})\n",
    "Sales.columns                           "
   ]
  },
  {
   "cell_type": "markdown",
   "metadata": {
    "id": "7Xoaj_Xe23KY"
   },
   "source": [
    "# Calculated Fields"
   ]
  },
  {
   "cell_type": "code",
   "execution_count": null,
   "metadata": {},
   "outputs": [],
   "source": [
    "auto_data=auto_data.rename(columns={\" length\":\"length\",\" width\":\"width\",\" height\":\"height\"})"
   ]
  },
  {
   "cell_type": "code",
   "execution_count": null,
   "metadata": {
    "id": "rkg8rgj62RzQ"
   },
   "outputs": [],
   "source": [
    "auto_data['area']=(auto_data['length'])*(auto_data['width'])*(auto_data['height'])\n",
    "auto_data['area']"
   ]
  },
  {
   "cell_type": "markdown",
   "metadata": {
    "id": "5LglMz1FLtH9"
   },
   "source": [
    "# Sorting the data"
   ]
  },
  {
   "cell_type": "code",
   "execution_count": null,
   "metadata": {
    "id": "NQ66yllkMp3W"
   },
   "outputs": [],
   "source": [
    "Online_Retail=pd.read_csv(data_path+\"/Online Retail.csv\", encoding = \"ISO-8859-1\")\n",
    "Online_Retail.head(20)"
   ]
  },
  {
   "cell_type": "code",
   "execution_count": null,
   "metadata": {
    "id": "oE7cpFZ8PmXu"
   },
   "outputs": [],
   "source": [
    "#Its ascending by default\n",
    "Online_Retail_sort=Online_Retail.sort_values('UnitPrice')\n",
    "Online_Retail_sort[\"UnitPrice\"].head(20)"
   ]
  },
  {
   "cell_type": "code",
   "execution_count": null,
   "metadata": {
    "id": "TLFGH4p-Pma_"
   },
   "outputs": [],
   "source": [
    "#Use ascending=False for descending\n",
    "Online_Retail_sort=Online_Retail.sort_values('UnitPrice',ascending=False)\n",
    "Online_Retail_sort[\"UnitPrice\"].head(20)"
   ]
  },
  {
   "cell_type": "code",
   "execution_count": null,
   "metadata": {
    "id": "ZMf4fPD1Pmd2"
   },
   "outputs": [],
   "source": [
    "#Sorting with two cols\n",
    "Online_Retail_sort2=Online_Retail.sort_values(['Country','UnitPrice'], ascending=[True, False])\n",
    "Online_Retail_sort2[['Country','UnitPrice']].head(30)"
   ]
  },
  {
   "cell_type": "markdown",
   "metadata": {
    "id": "RLQHQlE1MmgZ"
   },
   "source": [
    "# LAB:Sorting the data"
   ]
  },
  {
   "cell_type": "code",
   "execution_count": null,
   "metadata": {
    "id": "6SLToPWM29PV"
   },
   "outputs": [],
   "source": [
    "#AutoDataset\n",
    "auto_data.info()"
   ]
  },
  {
   "cell_type": "code",
   "execution_count": null,
   "metadata": {
    "id": "0cXk73qtMFKv"
   },
   "outputs": [],
   "source": [
    "#Sort the dataset based on price\n",
    "auto_sort=auto_data.sort_values(' price')  #default sorted in ascending order\n",
    "auto_sort.head(10)"
   ]
  },
  {
   "cell_type": "code",
   "execution_count": null,
   "metadata": {
    "id": "Bbvu6Hj2MIBC"
   },
   "outputs": [],
   "source": [
    "auto_sort=auto_data.sort_values(' price',ascending=False)  # sorted in descending order\n",
    "auto_sort[' price'].head(10)"
   ]
  },
  {
   "cell_type": "markdown",
   "metadata": {
    "id": "Aw7wX70IZAtf"
   },
   "source": [
    "# Identifying Duplicates"
   ]
  },
  {
   "cell_type": "code",
   "execution_count": null,
   "metadata": {
    "colab": {
     "base_uri": "https://localhost:8080/",
     "height": 356
    },
    "executionInfo": {
     "elapsed": 921,
     "status": "ok",
     "timestamp": 1629862857885,
     "user": {
      "displayName": "Venkata Reddy Konasani",
      "photoUrl": "https://lh3.googleusercontent.com/a-/AOh14GgRJzFx4fqVQJHXjQQXudJ9DDxI9gyaFsy3CjVbI7Q=s64",
      "userId": "11388081409849462561"
     },
     "user_tz": -330
    },
    "id": "uWQO0qygMT-Z",
    "outputId": "18d33ba2-9c7b-424d-e61b-16cc620601b4"
   },
   "outputs": [],
   "source": [
    "#bill_data=pd.read_csv(\"https://raw.githubusercontent.com/venkatareddykonasani/Datasets/master/Telecom%20Data%20Analysis/Bill.csv\")\n",
    "bill_data=pd.read_csv(data_path+\"Bill.csv\")\n",
    "bill_data.head(10)"
   ]
  },
  {
   "cell_type": "code",
   "execution_count": null,
   "metadata": {
    "colab": {
     "base_uri": "https://localhost:8080/"
    },
    "executionInfo": {
     "elapsed": 350,
     "status": "ok",
     "timestamp": 1629862865430,
     "user": {
      "displayName": "Venkata Reddy Konasani",
      "photoUrl": "https://lh3.googleusercontent.com/a-/AOh14GgRJzFx4fqVQJHXjQQXudJ9DDxI9gyaFsy3CjVbI7Q=s64",
      "userId": "11388081409849462561"
     },
     "user_tz": -330
    },
    "id": "yn2V6teaZHpo",
    "outputId": "36ba7933-19ee-4277-9cee-8d4c622795fc"
   },
   "outputs": [],
   "source": [
    "#Identify duplicates records in the data\n",
    "dupes=bill_data.duplicated()\n",
    "dupes\n",
    "sum(dupes)"
   ]
  },
  {
   "cell_type": "code",
   "execution_count": null,
   "metadata": {
    "colab": {
     "base_uri": "https://localhost:8080/"
    },
    "executionInfo": {
     "elapsed": 326,
     "status": "ok",
     "timestamp": 1629862869605,
     "user": {
      "displayName": "Venkata Reddy Konasani",
      "photoUrl": "https://lh3.googleusercontent.com/a-/AOh14GgRJzFx4fqVQJHXjQQXudJ9DDxI9gyaFsy3CjVbI7Q=s64",
      "userId": "11388081409849462561"
     },
     "user_tz": -330
    },
    "id": "VomIXpGLZJaF",
    "outputId": "f33e83a9-b47f-4b4a-8852-3fa30912afb4"
   },
   "outputs": [],
   "source": [
    "#Removing Duplicates\n",
    "bill_data.shape\n",
    "bill_data_uniq=bill_data.drop_duplicates()\n",
    "bill_data_uniq.shape"
   ]
  },
  {
   "cell_type": "code",
   "execution_count": null,
   "metadata": {
    "colab": {
     "base_uri": "https://localhost:8080/"
    },
    "executionInfo": {
     "elapsed": 327,
     "status": "ok",
     "timestamp": 1629862897494,
     "user": {
      "displayName": "Venkata Reddy Konasani",
      "photoUrl": "https://lh3.googleusercontent.com/a-/AOh14GgRJzFx4fqVQJHXjQQXudJ9DDxI9gyaFsy3CjVbI7Q=s64",
      "userId": "11388081409849462561"
     },
     "user_tz": -330
    },
    "id": "L2V_07N1ZKWY",
    "outputId": "0ebc09bb-83ef-4a09-8f06-9e8806cf2b1c"
   },
   "outputs": [],
   "source": [
    "#Identify duplicates in complaints data based on cust_id\n",
    "dupe_id=bill_data[\"cust_id\"].duplicated()\n",
    "dupe_id"
   ]
  },
  {
   "cell_type": "code",
   "execution_count": null,
   "metadata": {
    "colab": {
     "base_uri": "https://localhost:8080/"
    },
    "executionInfo": {
     "elapsed": 324,
     "status": "ok",
     "timestamp": 1629862912541,
     "user": {
      "displayName": "Venkata Reddy Konasani",
      "photoUrl": "https://lh3.googleusercontent.com/a-/AOh14GgRJzFx4fqVQJHXjQQXudJ9DDxI9gyaFsy3CjVbI7Q=s64",
      "userId": "11388081409849462561"
     },
     "user_tz": -330
    },
    "id": "RnJVm9yeZLY4",
    "outputId": "c58c3aa1-d165-421c-804b-7f0ade438c41"
   },
   "outputs": [],
   "source": [
    "#Removing duplicates based on a variable\n",
    "bill_data.shape\n",
    "bill_data_cust_uniq=bill_data.drop_duplicates(['cust_id'])\n",
    "bill_data_cust_uniq.shape"
   ]
  },
  {
   "cell_type": "markdown",
   "metadata": {
    "id": "Wdb82rC8c3iT"
   },
   "source": [
    "# LAB: Handling Duplicates "
   ]
  },
  {
   "cell_type": "code",
   "execution_count": null,
   "metadata": {
    "colab": {
     "base_uri": "https://localhost:8080/"
    },
    "executionInfo": {
     "elapsed": 564,
     "status": "ok",
     "timestamp": 1629863900443,
     "user": {
      "displayName": "Venkata Reddy Konasani",
      "photoUrl": "https://lh3.googleusercontent.com/a-/AOh14GgRJzFx4fqVQJHXjQQXudJ9DDxI9gyaFsy3CjVbI7Q=s64",
      "userId": "11388081409849462561"
     },
     "user_tz": -330
    },
    "id": "43ZqgytpZl6j",
    "outputId": "8e8d7054-8a4c-4ad9-f5a0-8a72d47bed13"
   },
   "outputs": [],
   "source": [
    "#DataSet: \"./Telecom Data Analysis/Complaints.csv\"\n",
    "comp_data=pd.read_csv(\"https://raw.githubusercontent.com/venkatareddykonasani/Datasets/master/Telecom%20Data%20Analysis/Complaints.csv\")\n",
    "comp_data.shape\n",
    "comp_data.info()"
   ]
  },
  {
   "cell_type": "code",
   "execution_count": null,
   "metadata": {
    "colab": {
     "base_uri": "https://localhost:8080/"
    },
    "executionInfo": {
     "elapsed": 327,
     "status": "ok",
     "timestamp": 1629863905207,
     "user": {
      "displayName": "Venkata Reddy Konasani",
      "photoUrl": "https://lh3.googleusercontent.com/a-/AOh14GgRJzFx4fqVQJHXjQQXudJ9DDxI9gyaFsy3CjVbI7Q=s64",
      "userId": "11388081409849462561"
     },
     "user_tz": -330
    },
    "id": "76KK_IKFdIZ1",
    "outputId": "9f830794-1804-4241-9dcf-8bc58bfcda63"
   },
   "outputs": [],
   "source": [
    "#Identify overall duplicates in complaints data\n",
    "dupe=comp_data.duplicated()\n",
    "sum(dupe) # gives total number of duplicates in data"
   ]
  },
  {
   "cell_type": "code",
   "execution_count": null,
   "metadata": {
    "id": "7Oyq0-ZVdLfZ"
   },
   "outputs": [],
   "source": [
    "#Create a new dataset by removing overall duplicates in Complaints data\n",
    "comp_data1=comp_data.drop_duplicates()"
   ]
  },
  {
   "cell_type": "code",
   "execution_count": null,
   "metadata": {
    "id": "YJP31wo8dNhq"
   },
   "outputs": [],
   "source": [
    "#Identify duplicates in complaints data based on cust_id\n",
    "dupe_id=comp_data[\"cust_id\"].duplicated()\n",
    "sum(dupe_id)"
   ]
  },
  {
   "cell_type": "code",
   "execution_count": null,
   "metadata": {
    "colab": {
     "base_uri": "https://localhost:8080/"
    },
    "executionInfo": {
     "elapsed": 326,
     "status": "ok",
     "timestamp": 1629863958794,
     "user": {
      "displayName": "Venkata Reddy Konasani",
      "photoUrl": "https://lh3.googleusercontent.com/a-/AOh14GgRJzFx4fqVQJHXjQQXudJ9DDxI9gyaFsy3CjVbI7Q=s64",
      "userId": "11388081409849462561"
     },
     "user_tz": -330
    },
    "id": "35z01kSUdPZr",
    "outputId": "1e494552-db97-4ecf-cb42-5ffbfc258a1f"
   },
   "outputs": [],
   "source": [
    "#Create a new dataset by removing duplicates based on cust_id in Complaints data\n",
    "comp_data2=comp_data.drop_duplicates(['cust_id'])\n",
    "comp_data2.shape"
   ]
  },
  {
   "cell_type": "markdown",
   "metadata": {
    "id": "T8BiyLykdz32"
   },
   "source": [
    "# Data Joins"
   ]
  },
  {
   "cell_type": "code",
   "execution_count": null,
   "metadata": {
    "colab": {
     "base_uri": "https://localhost:8080/"
    },
    "executionInfo": {
     "elapsed": 346,
     "status": "ok",
     "timestamp": 1629864171844,
     "user": {
      "displayName": "Venkata Reddy Konasani",
      "photoUrl": "https://lh3.googleusercontent.com/a-/AOh14GgRJzFx4fqVQJHXjQQXudJ9DDxI9gyaFsy3CjVbI7Q=s64",
      "userId": "11388081409849462561"
     },
     "user_tz": -330
    },
    "id": "HXRAx7YydPiN",
    "outputId": "95569557-99b1-46f9-8882-35044522cbbb"
   },
   "outputs": [],
   "source": [
    "#orders=pd.read_csv(\"https://raw.githubusercontent.com/venkatareddykonasani/Datasets/master/TV%20Commercial%20Slots%20Analysis/orders.csv\")\n",
    "orders=pd.read_csv(data_path+\"orders.csv\")\n",
    "orders.shape"
   ]
  },
  {
   "cell_type": "code",
   "execution_count": null,
   "metadata": {
    "colab": {
     "base_uri": "https://localhost:8080/"
    },
    "executionInfo": {
     "elapsed": 6,
     "status": "ok",
     "timestamp": 1629864172390,
     "user": {
      "displayName": "Venkata Reddy Konasani",
      "photoUrl": "https://lh3.googleusercontent.com/a-/AOh14GgRJzFx4fqVQJHXjQQXudJ9DDxI9gyaFsy3CjVbI7Q=s64",
      "userId": "11388081409849462561"
     },
     "user_tz": -330
    },
    "id": "H2r91ixoeUbL",
    "outputId": "6f909f04-5db0-4fc2-a892-69f9d2da731f"
   },
   "outputs": [],
   "source": [
    "#slots=pd.read_csv(\"https://raw.githubusercontent.com/venkatareddykonasani/Datasets/master/TV%20Commercial%20Slots%20Analysis/slots.csv\")\n",
    "slots=pd.read_csv(data_path+\"slots.csv\")\n",
    "slots.shape"
   ]
  },
  {
   "cell_type": "code",
   "execution_count": null,
   "metadata": {
    "colab": {
     "base_uri": "https://localhost:8080/"
    },
    "executionInfo": {
     "elapsed": 321,
     "status": "ok",
     "timestamp": 1629864230208,
     "user": {
      "displayName": "Venkata Reddy Konasani",
      "photoUrl": "https://lh3.googleusercontent.com/a-/AOh14GgRJzFx4fqVQJHXjQQXudJ9DDxI9gyaFsy3CjVbI7Q=s64",
      "userId": "11388081409849462561"
     },
     "user_tz": -330
    },
    "id": "dX6Q3NnleAaU",
    "outputId": "b2221af4-f8ca-41f1-8c30-43ed374f5b79"
   },
   "outputs": [],
   "source": [
    "#duplicates based on cust_id\n",
    "print(sum(orders.Unique_id.duplicated()))\n",
    "print(sum(slots.Unique_id.duplicated()))"
   ]
  },
  {
   "cell_type": "code",
   "execution_count": null,
   "metadata": {
    "colab": {
     "base_uri": "https://localhost:8080/"
    },
    "executionInfo": {
     "elapsed": 332,
     "status": "ok",
     "timestamp": 1629864236209,
     "user": {
      "displayName": "Venkata Reddy Konasani",
      "photoUrl": "https://lh3.googleusercontent.com/a-/AOh14GgRJzFx4fqVQJHXjQQXudJ9DDxI9gyaFsy3CjVbI7Q=s64",
      "userId": "11388081409849462561"
     },
     "user_tz": -330
    },
    "id": "RCqwUEZhekHu",
    "outputId": "5e282b97-6cca-496b-ea6a-61f37e2fe54e"
   },
   "outputs": [],
   "source": [
    "orders1=orders.drop_duplicates(['Unique_id'])\n",
    "slots1=slots.drop_duplicates(['Unique_id'])\n",
    "\n",
    "print(sum(orders1.Unique_id.duplicated()))\n",
    "print(sum(slots1.Unique_id.duplicated()))"
   ]
  },
  {
   "cell_type": "code",
   "execution_count": null,
   "metadata": {
    "colab": {
     "base_uri": "https://localhost:8080/"
    },
    "executionInfo": {
     "elapsed": 335,
     "status": "ok",
     "timestamp": 1629864251925,
     "user": {
      "displayName": "Venkata Reddy Konasani",
      "photoUrl": "https://lh3.googleusercontent.com/a-/AOh14GgRJzFx4fqVQJHXjQQXudJ9DDxI9gyaFsy3CjVbI7Q=s64",
      "userId": "11388081409849462561"
     },
     "user_tz": -330
    },
    "id": "_hqaBEL3eEzE",
    "outputId": "cd65f94e-deac-4fa3-aea3-06c749da7094"
   },
   "outputs": [],
   "source": [
    "###Inner Join\n",
    "inner_data=pd.merge(orders1, slots1, on='Unique_id', how='inner')\n",
    "inner_data.shape"
   ]
  },
  {
   "cell_type": "code",
   "execution_count": null,
   "metadata": {
    "colab": {
     "base_uri": "https://localhost:8080/"
    },
    "executionInfo": {
     "elapsed": 329,
     "status": "ok",
     "timestamp": 1629864259754,
     "user": {
      "displayName": "Venkata Reddy Konasani",
      "photoUrl": "https://lh3.googleusercontent.com/a-/AOh14GgRJzFx4fqVQJHXjQQXudJ9DDxI9gyaFsy3CjVbI7Q=s64",
      "userId": "11388081409849462561"
     },
     "user_tz": -330
    },
    "id": "TRrNAxaPetbr",
    "outputId": "f9399f08-00c3-4d3a-89a6-2489d9cb98f6"
   },
   "outputs": [],
   "source": [
    "###Outer Join\n",
    "outer_data=pd.merge(orders1, slots1, on='Unique_id', how='outer')\n",
    "outer_data.shape"
   ]
  },
  {
   "cell_type": "code",
   "execution_count": null,
   "metadata": {
    "colab": {
     "base_uri": "https://localhost:8080/"
    },
    "executionInfo": {
     "elapsed": 340,
     "status": "ok",
     "timestamp": 1629864268142,
     "user": {
      "displayName": "Venkata Reddy Konasani",
      "photoUrl": "https://lh3.googleusercontent.com/a-/AOh14GgRJzFx4fqVQJHXjQQXudJ9DDxI9gyaFsy3CjVbI7Q=s64",
      "userId": "11388081409849462561"
     },
     "user_tz": -330
    },
    "id": "wj09fdlmevWn",
    "outputId": "3f53adcd-2647-4e97-d71d-6b4280bc4d79"
   },
   "outputs": [],
   "source": [
    "##Left outer Join\n",
    "L_outer_data=pd.merge(orders1, slots1, on='Unique_id', how='left')\n",
    "L_outer_data.shape"
   ]
  },
  {
   "cell_type": "code",
   "execution_count": null,
   "metadata": {
    "colab": {
     "base_uri": "https://localhost:8080/"
    },
    "executionInfo": {
     "elapsed": 329,
     "status": "ok",
     "timestamp": 1629864273134,
     "user": {
      "displayName": "Venkata Reddy Konasani",
      "photoUrl": "https://lh3.googleusercontent.com/a-/AOh14GgRJzFx4fqVQJHXjQQXudJ9DDxI9gyaFsy3CjVbI7Q=s64",
      "userId": "11388081409849462561"
     },
     "user_tz": -330
    },
    "id": "uoZua3BtexZF",
    "outputId": "78e7b29d-e320-4f99-d33e-9e56c42a65bf"
   },
   "outputs": [],
   "source": [
    "###Righ outer Join\n",
    "R_outer_data=pd.merge(orders1, slots1, on='Unique_id', how='right')\n",
    "R_outer_data.shape"
   ]
  },
  {
   "cell_type": "code",
   "execution_count": null,
   "metadata": {
    "colab": {
     "base_uri": "https://localhost:8080/"
    },
    "executionInfo": {
     "elapsed": 317,
     "status": "ok",
     "timestamp": 1629864279705,
     "user": {
      "displayName": "Venkata Reddy Konasani",
      "photoUrl": "https://lh3.googleusercontent.com/a-/AOh14GgRJzFx4fqVQJHXjQQXudJ9DDxI9gyaFsy3CjVbI7Q=s64",
      "userId": "11388081409849462561"
     },
     "user_tz": -330
    },
    "id": "z0eSnlgPeF86",
    "outputId": "4b37d539-0e43-4bdb-9b12-94fad78fbd5e"
   },
   "outputs": [],
   "source": [
    "#####Other Options\n",
    "other_data=pd.merge(orders1, slots1, left_on=['AD_ID','Product ID'],right_on=['AD_ID','Product ID'], how='outer')\n",
    "other_data.shape"
   ]
  },
  {
   "cell_type": "markdown",
   "metadata": {
    "id": "zfupReOOgCgl"
   },
   "source": [
    "# LAB: Joins"
   ]
  },
  {
   "cell_type": "code",
   "execution_count": null,
   "metadata": {
    "colab": {
     "base_uri": "https://localhost:8080/"
    },
    "executionInfo": {
     "elapsed": 344,
     "status": "ok",
     "timestamp": 1629864613753,
     "user": {
      "displayName": "Venkata Reddy Konasani",
      "photoUrl": "https://lh3.googleusercontent.com/a-/AOh14GgRJzFx4fqVQJHXjQQXudJ9DDxI9gyaFsy3CjVbI7Q=s64",
      "userId": "11388081409849462561"
     },
     "user_tz": -330
    },
    "id": "wKUpQTzvezBI",
    "outputId": "5582b764-6031-42ab-8e5a-89c5ff090b25"
   },
   "outputs": [],
   "source": [
    "comp_data1=comp_data.drop_duplicates(['cust_id'])\n",
    "comp_data1.shape\n",
    "\n",
    "bill_data1=bill_data.drop_duplicates(['cust_id'])\n",
    "bill_data1.shape\n",
    "\n",
    "#All the customers who appear either in bill data or complaints data \n",
    "combined1=pd.merge(comp_data1, bill_data1, on='cust_id', how='outer')\n",
    "combined1.shape"
   ]
  },
  {
   "cell_type": "code",
   "execution_count": null,
   "metadata": {
    "colab": {
     "base_uri": "https://localhost:8080/"
    },
    "executionInfo": {
     "elapsed": 332,
     "status": "ok",
     "timestamp": 1629864628141,
     "user": {
      "displayName": "Venkata Reddy Konasani",
      "photoUrl": "https://lh3.googleusercontent.com/a-/AOh14GgRJzFx4fqVQJHXjQQXudJ9DDxI9gyaFsy3CjVbI7Q=s64",
      "userId": "11388081409849462561"
     },
     "user_tz": -330
    },
    "id": "1tZmCLIdgFPi",
    "outputId": "08a41ac3-1aa2-400b-d6a0-8b011277a0ef"
   },
   "outputs": [],
   "source": [
    "#All the customers who appear both in bill data and complaints data\n",
    "combined2=pd.merge(comp_data1, bill_data1, on='cust_id', how='inner')\n",
    "combined2.shape"
   ]
  },
  {
   "cell_type": "code",
   "execution_count": null,
   "metadata": {
    "colab": {
     "base_uri": "https://localhost:8080/"
    },
    "executionInfo": {
     "elapsed": 335,
     "status": "ok",
     "timestamp": 1629864633796,
     "user": {
      "displayName": "Venkata Reddy Konasani",
      "photoUrl": "https://lh3.googleusercontent.com/a-/AOh14GgRJzFx4fqVQJHXjQQXudJ9DDxI9gyaFsy3CjVbI7Q=s64",
      "userId": "11388081409849462561"
     },
     "user_tz": -330
    },
    "id": "SsoBbtV5gJE8",
    "outputId": "a791407c-d906-45c0-cc8e-09448249387c"
   },
   "outputs": [],
   "source": [
    "#All the customers from bill data: Customers who have bill data along with their complaints\n",
    "combined3=pd.merge(comp_data1, bill_data1, on='cust_id', how='right')\n",
    "combined3.shape"
   ]
  },
  {
   "cell_type": "code",
   "execution_count": null,
   "metadata": {
    "colab": {
     "base_uri": "https://localhost:8080/"
    },
    "executionInfo": {
     "elapsed": 320,
     "status": "ok",
     "timestamp": 1629864637184,
     "user": {
      "displayName": "Venkata Reddy Konasani",
      "photoUrl": "https://lh3.googleusercontent.com/a-/AOh14GgRJzFx4fqVQJHXjQQXudJ9DDxI9gyaFsy3CjVbI7Q=s64",
      "userId": "11388081409849462561"
     },
     "user_tz": -330
    },
    "id": "Z8d0UoengJMa",
    "outputId": "66e6d8d2-4732-4e4a-c4b2-b8254e6ea3a5"
   },
   "outputs": [],
   "source": [
    "#All the customers from complaints data: Customers who have Complaints data along with their bill info\n",
    "combined4=pd.merge(comp_data1, bill_data1, on='cust_id', how='left')\n",
    "combined4.shape"
   ]
  },
  {
   "cell_type": "markdown",
   "metadata": {
    "id": "MOVZrMN9z27M"
   },
   "source": [
    "# Functions on rows and columns"
   ]
  },
  {
   "cell_type": "code",
   "execution_count": null,
   "metadata": {
    "colab": {
     "base_uri": "https://localhost:8080/"
    },
    "executionInfo": {
     "elapsed": 331,
     "status": "ok",
     "timestamp": 1629869849757,
     "user": {
      "displayName": "Venkata Reddy Konasani",
      "photoUrl": "https://lh3.googleusercontent.com/a-/AOh14GgRJzFx4fqVQJHXjQQXudJ9DDxI9gyaFsy3CjVbI7Q=s64",
      "userId": "11388081409849462561"
     },
     "user_tz": -330
    },
    "id": "ckS6xHDtz6y3",
    "outputId": "dfe33062-8048-4f26-86eb-92f805f682b4"
   },
   "outputs": [],
   "source": [
    "cc_usage.info()"
   ]
  },
  {
   "cell_type": "code",
   "execution_count": null,
   "metadata": {
    "colab": {
     "base_uri": "https://localhost:8080/"
    },
    "executionInfo": {
     "elapsed": 327,
     "status": "ok",
     "timestamp": 1629869976822,
     "user": {
      "displayName": "Venkata Reddy Konasani",
      "photoUrl": "https://lh3.googleusercontent.com/a-/AOh14GgRJzFx4fqVQJHXjQQXudJ9DDxI9gyaFsy3CjVbI7Q=s64",
      "userId": "11388081409849462561"
     },
     "user_tz": -330
    },
    "id": "TooDE9hT0DeT",
    "outputId": "e0217e2b-0fbe-4932-d26e-ef3fd26e1fcc"
   },
   "outputs": [],
   "source": [
    "cc_usage[\"Credit_Limit\"].describe()            "
   ]
  },
  {
   "cell_type": "code",
   "execution_count": null,
   "metadata": {
    "colab": {
     "base_uri": "https://localhost:8080/",
     "height": 770
    },
    "executionInfo": {
     "elapsed": 1719,
     "status": "ok",
     "timestamp": 1629871276272,
     "user": {
      "displayName": "Venkata Reddy Konasani",
      "photoUrl": "https://lh3.googleusercontent.com/a-/AOh14GgRJzFx4fqVQJHXjQQXudJ9DDxI9gyaFsy3CjVbI7Q=s64",
      "userId": "11388081409849462561"
     },
     "user_tz": -330
    },
    "id": "2dRbg-3Q0idU",
    "outputId": "fb3077ad-bbb8-4e4e-a7ed-1bf4496a8eee"
   },
   "outputs": [],
   "source": [
    "cc_usage[\"Credit_Limit_Segment\"]=0\n",
    "for i in range(0, len(cc_usage)):\n",
    "    if cc_usage[\"Credit_Limit\"][i] < 3000:\n",
    "        cc_usage[\"Credit_Limit_Segment\"][i]  =\"Low\"\n",
    "    elif cc_usage[\"Credit_Limit\"][i] < 6000:\n",
    "        cc_usage[\"Credit_Limit_Segment\"][i]  =\"Medium\"\n",
    "    else:\n",
    "        cc_usage[\"Credit_Limit_Segment\"][i]  =\"high\"\n",
    "cc_usage[[\"Credit_Limit\", \"Credit_Limit_Segment\"]]"
   ]
  },
  {
   "cell_type": "code",
   "execution_count": null,
   "metadata": {
    "colab": {
     "base_uri": "https://localhost:8080/"
    },
    "executionInfo": {
     "elapsed": 909,
     "status": "ok",
     "timestamp": 1629871615915,
     "user": {
      "displayName": "Venkata Reddy Konasani",
      "photoUrl": "https://lh3.googleusercontent.com/a-/AOh14GgRJzFx4fqVQJHXjQQXudJ9DDxI9gyaFsy3CjVbI7Q=s64",
      "userId": "11388081409849462561"
     },
     "user_tz": -330
    },
    "id": "_zNB6kO_17kP",
    "outputId": "08a230ff-2f91-4a39-9214-d8f9f8858b3d"
   },
   "outputs": [],
   "source": [
    "import time\n",
    "start_time = time.time()\n",
    "\n",
    "cc_usage[\"Credit_Limit_Segment\"]=\"High\"\n",
    "for i in range(0, len(cc_usage)):\n",
    "    if cc_usage[\"Credit_Limit\"][i] < 3000:\n",
    "        cc_usage[\"Credit_Limit_Segment\"][i]  =\"Low\"\n",
    "    elif cc_usage[\"Credit_Limit\"][i] < 6000:\n",
    "        cc_usage[\"Credit_Limit_Segment\"][i]  =\"Medium\"\n",
    "\n",
    "elapsed_time = time.time() - start_time\n",
    "print(elapsed_time)"
   ]
  },
  {
   "cell_type": "code",
   "execution_count": null,
   "metadata": {
    "colab": {
     "base_uri": "https://localhost:8080/"
    },
    "executionInfo": {
     "elapsed": 361,
     "status": "ok",
     "timestamp": 1629871786742,
     "user": {
      "displayName": "Venkata Reddy Konasani",
      "photoUrl": "https://lh3.googleusercontent.com/a-/AOh14GgRJzFx4fqVQJHXjQQXudJ9DDxI9gyaFsy3CjVbI7Q=s64",
      "userId": "11388081409849462561"
     },
     "user_tz": -330
    },
    "id": "pf53NC5k5h6X",
    "outputId": "a2c9ea07-f93b-4686-c00b-636235ba6eb4"
   },
   "outputs": [],
   "source": [
    "import time\n",
    "start_time = time.time()\n",
    "\n",
    "cc_usage[\"Credit_Limit_Segment1\"]=\"High\"\n",
    "cc_usage[\"Credit_Limit_Segment1\"][cc_usage[\"Credit_Limit\"]< 3000]=\"Low\"\n",
    "cc_usage[\"Credit_Limit_Segment1\"][(cc_usage[\"Credit_Limit\"]> 3000) & (cc_usage[\"Credit_Limit\"]< 6000)]=\"Medium\"\n",
    "\n",
    "elapsed_time = time.time() - start_time\n",
    "print(elapsed_time)"
   ]
  },
  {
   "cell_type": "code",
   "execution_count": null,
   "metadata": {
    "colab": {
     "base_uri": "https://localhost:8080/",
     "height": 415
    },
    "executionInfo": {
     "elapsed": 331,
     "status": "ok",
     "timestamp": 1629871718472,
     "user": {
      "displayName": "Venkata Reddy Konasani",
      "photoUrl": "https://lh3.googleusercontent.com/a-/AOh14GgRJzFx4fqVQJHXjQQXudJ9DDxI9gyaFsy3CjVbI7Q=s64",
      "userId": "11388081409849462561"
     },
     "user_tz": -330
    },
    "id": "dYVLBrkV6LfQ",
    "outputId": "8b9b0a6c-de51-4b4e-d6dd-6e41bf17034b"
   },
   "outputs": [],
   "source": [
    "cc_usage[[\"Credit_Limit\", \"Credit_Limit_Segment\",\"Credit_Limit_Segment1\"]]"
   ]
  },
  {
   "cell_type": "markdown",
   "metadata": {
    "id": "v5h9dnsM7vwr"
   },
   "source": [
    "# For loop vs Vectorization"
   ]
  },
  {
   "cell_type": "code",
   "execution_count": null,
   "metadata": {
    "colab": {
     "base_uri": "https://localhost:8080/"
    },
    "executionInfo": {
     "elapsed": 1167,
     "status": "ok",
     "timestamp": 1629873189041,
     "user": {
      "displayName": "Venkata Reddy Konasani",
      "photoUrl": "https://lh3.googleusercontent.com/a-/AOh14GgRJzFx4fqVQJHXjQQXudJ9DDxI9gyaFsy3CjVbI7Q=s64",
      "userId": "11388081409849462561"
     },
     "user_tz": -330
    },
    "id": "7eZ5LXPR7KqK",
    "outputId": "ce463bcf-4ec1-40f0-8e23-2b4d5f87146a"
   },
   "outputs": [],
   "source": [
    "#Online_Retail=pd.read_csv(\"https://raw.githubusercontent.com/venkatareddykonasani/Datasets/master/Online%20Retail%20Sales%20Data/Online%20Retail.csv\", encoding = \"ISO-8859-1\")\n",
    "Online_Retail=pd.read_csv(data_path+\"/Online Retail.csv\", encoding = \"ISO-8859-1\")\n",
    "Online_Retail.info()"
   ]
  },
  {
   "cell_type": "code",
   "execution_count": null,
   "metadata": {
    "colab": {
     "base_uri": "https://localhost:8080/"
    },
    "executionInfo": {
     "elapsed": 327,
     "status": "ok",
     "timestamp": 1629873460338,
     "user": {
      "displayName": "Venkata Reddy Konasani",
      "photoUrl": "https://lh3.googleusercontent.com/a-/AOh14GgRJzFx4fqVQJHXjQQXudJ9DDxI9gyaFsy3CjVbI7Q=s64",
      "userId": "11388081409849462561"
     },
     "user_tz": -330
    },
    "id": "OGgpd7s7_Bla",
    "outputId": "88e7f745-4c11-41c8-84f1-fcd409a2d339"
   },
   "outputs": [],
   "source": [
    "import time\n",
    "start_time = time.time()\n",
    "\n",
    "Online_Retail[\"UnitPrice_Segment\"]=\"High\"\n",
    "Online_Retail[\"UnitPrice_Segment\"][Online_Retail[\"UnitPrice\"] < 2]= \"Low\"\n",
    "Online_Retail[\"UnitPrice_Segment\"][(Online_Retail[\"UnitPrice\"] > 2) & (Online_Retail[\"UnitPrice\"] < 4)] =\"Medium\"\n",
    "\n",
    "elapsed_time = time.time() - start_time\n",
    "print(\"Time taken\",elapsed_time)"
   ]
  },
  {
   "cell_type": "code",
   "execution_count": null,
   "metadata": {
    "colab": {
     "base_uri": "https://localhost:8080/",
     "height": 415
    },
    "executionInfo": {
     "elapsed": 328,
     "status": "ok",
     "timestamp": 1629873192814,
     "user": {
      "displayName": "Venkata Reddy Konasani",
      "photoUrl": "https://lh3.googleusercontent.com/a-/AOh14GgRJzFx4fqVQJHXjQQXudJ9DDxI9gyaFsy3CjVbI7Q=s64",
      "userId": "11388081409849462561"
     },
     "user_tz": -330
    },
    "id": "EAvaM5bUAdYF",
    "outputId": "f6162257-e9a5-4dbc-9489-178e9fb40ae6"
   },
   "outputs": [],
   "source": [
    "Online_Retail[[\"UnitPrice_Segment\",\"UnitPrice\"]]"
   ]
  },
  {
   "cell_type": "code",
   "execution_count": null,
   "metadata": {
    "colab": {
     "base_uri": "https://localhost:8080/"
    },
    "executionInfo": {
     "elapsed": 232938,
     "status": "ok",
     "timestamp": 1629873430739,
     "user": {
      "displayName": "Venkata Reddy Konasani",
      "photoUrl": "https://lh3.googleusercontent.com/a-/AOh14GgRJzFx4fqVQJHXjQQXudJ9DDxI9gyaFsy3CjVbI7Q=s64",
      "userId": "11388081409849462561"
     },
     "user_tz": -330
    },
    "id": "ewrbUEcc70tF",
    "outputId": "0ea15540-b3f5-4ffc-f7e7-2ca1eb6c6bda"
   },
   "outputs": [],
   "source": [
    "import time\n",
    "start_time = time.time()\n",
    "\n",
    "Online_Retail[\"UnitPrice_Segment1\"]=\"High\"\n",
    "for i in range(0, len(Online_Retail)):\n",
    "    if Online_Retail[\"UnitPrice\"][i] < 2.0:\n",
    "        Online_Retail[\"UnitPrice_Segment1\"][i]  =\"Low\"\n",
    "    elif Online_Retail[\"UnitPrice\"][i] < 4.0:\n",
    "        Online_Retail[\"UnitPrice_Segment1\"][i]  =\"Medium\"\n",
    "\n",
    "elapsed_time = time.time() - start_time\n",
    "print(\"Time taken\", elapsed_time)"
   ]
  },
  {
   "cell_type": "markdown",
   "metadata": {
    "id": "A4n2aA6QCXHv"
   },
   "source": [
    "# apply function"
   ]
  },
  {
   "cell_type": "code",
   "execution_count": null,
   "metadata": {
    "id": "Oyprean28iR8"
   },
   "outputs": [],
   "source": [
    "def binning(x, limit1, limit2):\n",
    "    result=\"High\"\n",
    "    if x < limit1:\n",
    "        result=\"Low\"\n",
    "    if (x > limit1) & (x < limit2):\n",
    "        result=\"Medium\"\n",
    "    return(result)"
   ]
  },
  {
   "cell_type": "code",
   "execution_count": null,
   "metadata": {
    "id": "3QD-0VbjDMY4"
   },
   "outputs": [],
   "source": [
    "cc_usage[\"Credit_Limit_Segment2\"]=cc_usage[\"Credit_Limit\"].apply(lambda x:binning(x, 3000, 6000))"
   ]
  },
  {
   "cell_type": "code",
   "execution_count": null,
   "metadata": {
    "colab": {
     "base_uri": "https://localhost:8080/",
     "height": 415
    },
    "executionInfo": {
     "elapsed": 632,
     "status": "ok",
     "timestamp": 1629874245494,
     "user": {
      "displayName": "Venkata Reddy Konasani",
      "photoUrl": "https://lh3.googleusercontent.com/a-/AOh14GgRJzFx4fqVQJHXjQQXudJ9DDxI9gyaFsy3CjVbI7Q=s64",
      "userId": "11388081409849462561"
     },
     "user_tz": -330
    },
    "id": "-VxfGL0gEQ85",
    "outputId": "12bf26be-7da1-4cd3-abdf-58424ba7986b"
   },
   "outputs": [],
   "source": [
    "Online_Retail[\"UnitPrice_Segment2\"]=Online_Retail[\"UnitPrice\"].apply(lambda x:binning(x, 2, 4))\n",
    "Online_Retail[[\"UnitPrice_Segment\",\"UnitPrice_Segment2\"]]"
   ]
  },
  {
   "cell_type": "code",
   "execution_count": null,
   "metadata": {
    "colab": {
     "base_uri": "https://localhost:8080/"
    },
    "executionInfo": {
     "elapsed": 338,
     "status": "ok",
     "timestamp": 1629874272465,
     "user": {
      "displayName": "Venkata Reddy Konasani",
      "photoUrl": "https://lh3.googleusercontent.com/a-/AOh14GgRJzFx4fqVQJHXjQQXudJ9DDxI9gyaFsy3CjVbI7Q=s64",
      "userId": "11388081409849462561"
     },
     "user_tz": -330
    },
    "id": "L7K5czjhE0qy",
    "outputId": "69efdc4c-d6ce-4920-84cf-5d1bc1cd2161"
   },
   "outputs": [],
   "source": [
    "import time\n",
    "start_time = time.time()\n",
    "\n",
    "Online_Retail[\"UnitPrice_Segment2\"]=Online_Retail[\"UnitPrice\"].apply(lambda x:binning(x, 2, 4))\n",
    "\n",
    "elapsed_time = time.time() - start_time\n",
    "print(\"Time taken\", elapsed_time)"
   ]
  },
  {
   "cell_type": "markdown",
   "metadata": {
    "id": "IIXlR2gbM6UD"
   },
   "source": [
    "# More on .apply() function"
   ]
  },
  {
   "cell_type": "code",
   "execution_count": null,
   "metadata": {
    "colab": {
     "base_uri": "https://localhost:8080/",
     "height": 306
    },
    "executionInfo": {
     "elapsed": 336,
     "status": "ok",
     "timestamp": 1629876400909,
     "user": {
      "displayName": "Venkata Reddy Konasani",
      "photoUrl": "https://lh3.googleusercontent.com/a-/AOh14GgRJzFx4fqVQJHXjQQXudJ9DDxI9gyaFsy3CjVbI7Q=s64",
      "userId": "11388081409849462561"
     },
     "user_tz": -330
    },
    "id": "1fDxHJAhE7U9",
    "outputId": "24067967-304d-4070-ee2e-15b53fb16a31"
   },
   "outputs": [],
   "source": [
    "cc_usage.info()"
   ]
  },
  {
   "cell_type": "code",
   "execution_count": null,
   "metadata": {},
   "outputs": [],
   "source": [
    "cc_usage['Dependent_count_ind']=cc_usage['Dependent_count'].apply(lambda x:\"Low\" if x<5 else \"high\")\n",
    "cc_usage[['Dependent_count','Dependent_count_ind']]"
   ]
  },
  {
   "cell_type": "markdown",
   "metadata": {
    "id": "qViqcaIOSaXW"
   },
   "source": [
    "## .apply() on columns"
   ]
  },
  {
   "cell_type": "code",
   "execution_count": null,
   "metadata": {},
   "outputs": [],
   "source": [
    "cc_usage.select_dtypes(exclude=\"object\").apply(lambda y: round(y.mean()))"
   ]
  },
  {
   "cell_type": "code",
   "execution_count": null,
   "metadata": {
    "colab": {
     "base_uri": "https://localhost:8080/",
     "height": 130
    },
    "executionInfo": {
     "elapsed": 336,
     "status": "ok",
     "timestamp": 1629945506150,
     "user": {
      "displayName": "Venkata Reddy Konasani",
      "photoUrl": "https://lh3.googleusercontent.com/a-/AOh14GgRJzFx4fqVQJHXjQQXudJ9DDxI9gyaFsy3CjVbI7Q=s64",
      "userId": "11388081409849462561"
     },
     "user_tz": -330
    },
    "id": "MmuRvLkoQaAP",
    "outputId": "52c2d78c-c9cb-4052-82b2-83a5a0f83e84"
   },
   "outputs": [],
   "source": [
    "cc_usage.select_dtypes(exclude=\"object\").apply(lambda y: [round(y.mean()), round(y.median())])"
   ]
  },
  {
   "cell_type": "code",
   "execution_count": null,
   "metadata": {
    "id": "RleepjIiU_Ir"
   },
   "outputs": [],
   "source": [
    "def cli_flag(x):\n",
    "    if x[0] > 4 and x[1]<5000:\n",
    "        return(1)\n",
    "    else:\n",
    "        return(0)"
   ]
  },
  {
   "cell_type": "code",
   "execution_count": null,
   "metadata": {
    "colab": {
     "base_uri": "https://localhost:8080/",
     "height": 415
    },
    "executionInfo": {
     "elapsed": 362,
     "status": "ok",
     "timestamp": 1629945933114,
     "user": {
      "displayName": "Venkata Reddy Konasani",
      "photoUrl": "https://lh3.googleusercontent.com/a-/AOh14GgRJzFx4fqVQJHXjQQXudJ9DDxI9gyaFsy3CjVbI7Q=s64",
      "userId": "11388081409849462561"
     },
     "user_tz": -330
    },
    "id": "8ZeTKlBnUWq4",
    "outputId": "5d086424-5852-4f8a-e7c6-be5c8e1c9c33"
   },
   "outputs": [],
   "source": [
    "cc_usage[\"Credit_Line_increase_flag\"]=cc_usage[[\"Total_Relationship_Count\",\"Credit_Limit\"]].apply(lambda x:cli_flag(x))\n",
    "\n",
    "cc_usage[[\"Total_Relationship_Count\",\"Credit_Limit\", \"Credit_Line_increase_flag\"]]"
   ]
  },
  {
   "cell_type": "code",
   "execution_count": null,
   "metadata": {},
   "outputs": [],
   "source": [
    "cc_usage[\"Credit_Line_increase_flag\"]=cc_usage[[\"Total_Relationship_Count\",\"Credit_Limit\"]].apply(lambda x:cli_flag(x), axis=1)\n",
    "\n",
    "cc_usage[[\"Total_Relationship_Count\",\"Credit_Limit\", \"Credit_Line_increase_flag\"]]"
   ]
  },
  {
   "cell_type": "markdown",
   "metadata": {
    "id": "s5SPldTcQff0"
   },
   "source": [
    "# LAB : .apply()"
   ]
  },
  {
   "cell_type": "code",
   "execution_count": null,
   "metadata": {
    "colab": {
     "base_uri": "https://localhost:8080/",
     "height": 222
    },
    "executionInfo": {
     "elapsed": 342,
     "status": "ok",
     "timestamp": 1629944461951,
     "user": {
      "displayName": "Venkata Reddy Konasani",
      "photoUrl": "https://lh3.googleusercontent.com/a-/AOh14GgRJzFx4fqVQJHXjQQXudJ9DDxI9gyaFsy3CjVbI7Q=s64",
      "userId": "11388081409849462561"
     },
     "user_tz": -330
    },
    "id": "8_jwrcqAdXKh",
    "outputId": "dc92e232-7d12-4f62-8073-208bf9706ccf"
   },
   "outputs": [],
   "source": [
    "bank_data.head()"
   ]
  },
  {
   "cell_type": "code",
   "execution_count": null,
   "metadata": {
    "colab": {
     "base_uri": "https://localhost:8080/"
    },
    "executionInfo": {
     "elapsed": 329,
     "status": "ok",
     "timestamp": 1629944904231,
     "user": {
      "displayName": "Venkata Reddy Konasani",
      "photoUrl": "https://lh3.googleusercontent.com/a-/AOh14GgRJzFx4fqVQJHXjQQXudJ9DDxI9gyaFsy3CjVbI7Q=s64",
      "userId": "11388081409849462561"
     },
     "user_tz": -330
    },
    "id": "jevIGYzqQmIU",
    "outputId": "32843e7f-e992-41de-ba70-c148b630e699"
   },
   "outputs": [],
   "source": [
    "bank_data[\"new_bal\"]=bank_data[\"balance\"].apply(lambda x: max(0.9*x, 0))\n",
    "bank_data[\"new_bal\"].describe()"
   ]
  },
  {
   "cell_type": "code",
   "execution_count": null,
   "metadata": {
    "colab": {
     "base_uri": "https://localhost:8080/"
    },
    "executionInfo": {
     "elapsed": 359,
     "status": "ok",
     "timestamp": 1629945103550,
     "user": {
      "displayName": "Venkata Reddy Konasani",
      "photoUrl": "https://lh3.googleusercontent.com/a-/AOh14GgRJzFx4fqVQJHXjQQXudJ9DDxI9gyaFsy3CjVbI7Q=s64",
      "userId": "11388081409849462561"
     },
     "user_tz": -330
    },
    "id": "SXJ2uyp1RsKg",
    "outputId": "dd0a8085-3d10-4465-d1b8-ef3b6807cdbc"
   },
   "outputs": [],
   "source": [
    "bank_data.apply(lambda y: sum(y.isnull()), axis=0)"
   ]
  },
  {
   "cell_type": "code",
   "execution_count": null,
   "metadata": {
    "colab": {
     "base_uri": "https://localhost:8080/"
    },
    "executionInfo": {
     "elapsed": 4581,
     "status": "ok",
     "timestamp": 1629949959993,
     "user": {
      "displayName": "Venkata Reddy Konasani",
      "photoUrl": "https://lh3.googleusercontent.com/a-/AOh14GgRJzFx4fqVQJHXjQQXudJ9DDxI9gyaFsy3CjVbI7Q=s64",
      "userId": "11388081409849462561"
     },
     "user_tz": -330
    },
    "id": "_BUTUNoPlkjC",
    "outputId": "4cb655b3-f2a0-4ce8-c944-e9b0bd8c7a39"
   },
   "outputs": [],
   "source": [
    "bank_data.apply(lambda y: sum(y.isnull()), axis=1)"
   ]
  },
  {
   "cell_type": "code",
   "execution_count": null,
   "metadata": {
    "id": "GwjTzyMLStT-"
   },
   "outputs": [],
   "source": [
    "def length_flag(x):\n",
    "    if len(x) > 10:\n",
    "        return(\"Long\")\n",
    "    else:\n",
    "        return(\"Short\")"
   ]
  },
  {
   "cell_type": "code",
   "execution_count": null,
   "metadata": {
    "colab": {
     "base_uri": "https://localhost:8080/"
    },
    "executionInfo": {
     "elapsed": 12,
     "status": "ok",
     "timestamp": 1629959257564,
     "user": {
      "displayName": "Venkata Reddy Konasani",
      "photoUrl": "https://lh3.googleusercontent.com/a-/AOh14GgRJzFx4fqVQJHXjQQXudJ9DDxI9gyaFsy3CjVbI7Q=s64",
      "userId": "11388081409849462561"
     },
     "user_tz": -330
    },
    "id": "1ytIXDKkIzgn",
    "outputId": "e054fb33-4c0f-4c4f-a047-2bbd5b46f001"
   },
   "outputs": [],
   "source": [
    "bank_data[\"job_flag\"]=bank_data[\"job\"].apply(lambda x:length_flag(x))\n",
    "bank_data[[\"job_flag\",\"job\"]]"
   ]
  },
  {
   "cell_type": "code",
   "execution_count": null,
   "metadata": {
    "colab": {
     "base_uri": "https://localhost:8080/"
    },
    "executionInfo": {
     "elapsed": 497,
     "status": "ok",
     "timestamp": 1629959297292,
     "user": {
      "displayName": "Venkata Reddy Konasani",
      "photoUrl": "https://lh3.googleusercontent.com/a-/AOh14GgRJzFx4fqVQJHXjQQXudJ9DDxI9gyaFsy3CjVbI7Q=s64",
      "userId": "11388081409849462561"
     },
     "user_tz": -330
    },
    "id": "565r4nJlJHta",
    "outputId": "4904b690-6a56-4db0-f390-ad804e0c0d77"
   },
   "outputs": [],
   "source": [
    "bank_data[\"education_flag\"]=bank_data[\"education\"].apply(lambda x:length_flag(x))\n",
    "bank_data[[\"education_flag\",\"education\"]]"
   ]
  },
  {
   "cell_type": "markdown",
   "metadata": {
    "id": "B0bba1XQLVtr"
   },
   "source": [
    "# Group by and Aggregate"
   ]
  },
  {
   "cell_type": "code",
   "execution_count": null,
   "metadata": {},
   "outputs": [],
   "source": [
    "#kc_house_price=pd.read_csv(\"https://raw.githubusercontent.com/venkatareddykonasani/Datasets/master/kc_house_data/kc_house_data.csv\")\n",
    "kc_house_price=pd.read_csv(data_path+\"kc_house_data.csv\")"
   ]
  },
  {
   "cell_type": "code",
   "execution_count": null,
   "metadata": {
    "colab": {
     "base_uri": "https://localhost:8080/"
    },
    "executionInfo": {
     "elapsed": 335,
     "status": "ok",
     "timestamp": 1629959909792,
     "user": {
      "displayName": "Venkata Reddy Konasani",
      "photoUrl": "https://lh3.googleusercontent.com/a-/AOh14GgRJzFx4fqVQJHXjQQXudJ9DDxI9gyaFsy3CjVbI7Q=s64",
      "userId": "11388081409849462561"
     },
     "user_tz": -330
    },
    "id": "FfgTF5aSJ6_G",
    "outputId": "08c086ef-347e-47f5-8d90-14658278669f"
   },
   "outputs": [],
   "source": [
    "kc_house_price.info()"
   ]
  },
  {
   "cell_type": "code",
   "execution_count": null,
   "metadata": {
    "colab": {
     "base_uri": "https://localhost:8080/",
     "height": 225
    },
    "executionInfo": {
     "elapsed": 313,
     "status": "ok",
     "timestamp": 1629960961627,
     "user": {
      "displayName": "Venkata Reddy Konasani",
      "photoUrl": "https://lh3.googleusercontent.com/a-/AOh14GgRJzFx4fqVQJHXjQQXudJ9DDxI9gyaFsy3CjVbI7Q=s64",
      "userId": "11388081409849462561"
     },
     "user_tz": -330
    },
    "id": "tm5jmP7bPlH2",
    "outputId": "e3506220-ebb7-4f60-bff3-e59709a1272e"
   },
   "outputs": [],
   "source": [
    "kc_house_price.head()"
   ]
  },
  {
   "cell_type": "code",
   "execution_count": null,
   "metadata": {
    "colab": {
     "base_uri": "https://localhost:8080/",
     "height": 257
    },
    "executionInfo": {
     "elapsed": 344,
     "status": "ok",
     "timestamp": 1629960633362,
     "user": {
      "displayName": "Venkata Reddy Konasani",
      "photoUrl": "https://lh3.googleusercontent.com/a-/AOh14GgRJzFx4fqVQJHXjQQXudJ9DDxI9gyaFsy3CjVbI7Q=s64",
      "userId": "11388081409849462561"
     },
     "user_tz": -330
    },
    "id": "-LeD2-xLLmt8",
    "outputId": "71f013fc-1b3c-42ab-e930-6eaddbd319f8"
   },
   "outputs": [],
   "source": [
    "kc_house_price.groupby(\"condition\").count()"
   ]
  },
  {
   "cell_type": "code",
   "execution_count": null,
   "metadata": {
    "colab": {
     "base_uri": "https://localhost:8080/"
    },
    "executionInfo": {
     "elapsed": 324,
     "status": "ok",
     "timestamp": 1629960658235,
     "user": {
      "displayName": "Venkata Reddy Konasani",
      "photoUrl": "https://lh3.googleusercontent.com/a-/AOh14GgRJzFx4fqVQJHXjQQXudJ9DDxI9gyaFsy3CjVbI7Q=s64",
      "userId": "11388081409849462561"
     },
     "user_tz": -330
    },
    "id": "PHjejodLMxB2",
    "outputId": "79faad85-5abd-4086-ed79-554c354285e4"
   },
   "outputs": [],
   "source": [
    "#Restrict to one column\n",
    "kc_house_price.groupby(\"condition\")[\"id\"].count()"
   ]
  },
  {
   "cell_type": "code",
   "execution_count": null,
   "metadata": {
    "colab": {
     "base_uri": "https://localhost:8080/"
    },
    "executionInfo": {
     "elapsed": 4,
     "status": "ok",
     "timestamp": 1629960678278,
     "user": {
      "displayName": "Venkata Reddy Konasani",
      "photoUrl": "https://lh3.googleusercontent.com/a-/AOh14GgRJzFx4fqVQJHXjQQXudJ9DDxI9gyaFsy3CjVbI7Q=s64",
      "userId": "11388081409849462561"
     },
     "user_tz": -330
    },
    "id": "hMrhXVXENFZA",
    "outputId": "2455cb46-7996-43ef-a396-b399addcba8f"
   },
   "outputs": [],
   "source": [
    "round(kc_house_price.groupby(\"condition\")[\"price\"].mean())"
   ]
  },
  {
   "cell_type": "code",
   "execution_count": null,
   "metadata": {
    "colab": {
     "base_uri": "https://localhost:8080/",
     "height": 268
    },
    "executionInfo": {
     "elapsed": 10,
     "status": "ok",
     "timestamp": 1629960680585,
     "user": {
      "displayName": "Venkata Reddy Konasani",
      "photoUrl": "https://lh3.googleusercontent.com/a-/AOh14GgRJzFx4fqVQJHXjQQXudJ9DDxI9gyaFsy3CjVbI7Q=s64",
      "userId": "11388081409849462561"
     },
     "user_tz": -330
    },
    "id": "m4_Inbm1OLkS",
    "outputId": "04e3c6a3-fdf3-4a73-f41e-48447e237c61"
   },
   "outputs": [],
   "source": [
    "kc_house_price.groupby(\"condition\").agg({'id':['count']})"
   ]
  },
  {
   "cell_type": "code",
   "execution_count": null,
   "metadata": {
    "colab": {
     "base_uri": "https://localhost:8080/",
     "height": 268
    },
    "executionInfo": {
     "elapsed": 286,
     "status": "ok",
     "timestamp": 1629963243876,
     "user": {
      "displayName": "Venkata Reddy Konasani",
      "photoUrl": "https://lh3.googleusercontent.com/a-/AOh14GgRJzFx4fqVQJHXjQQXudJ9DDxI9gyaFsy3CjVbI7Q=s64",
      "userId": "11388081409849462561"
     },
     "user_tz": -330
    },
    "id": "Lu6emCj8YShB",
    "outputId": "5d097015-44a1-4943-ef53-44bbe87a9e80"
   },
   "outputs": [],
   "source": [
    "kc_house_price.groupby(\"condition\").agg({'price':['mean']})"
   ]
  },
  {
   "cell_type": "code",
   "execution_count": null,
   "metadata": {
    "id": "wMC7P3q3NNMj"
   },
   "outputs": [],
   "source": [
    "kc_house_price_grp_agg=kc_house_price.groupby(\"condition\").agg({'id':['count'],'price':['mean','min', 'max'] })\n",
    "kc_house_price_grp_agg"
   ]
  },
  {
   "cell_type": "code",
   "execution_count": null,
   "metadata": {
    "colab": {
     "base_uri": "https://localhost:8080/"
    },
    "executionInfo": {
     "elapsed": 293,
     "status": "ok",
     "timestamp": 1629960781095,
     "user": {
      "displayName": "Venkata Reddy Konasani",
      "photoUrl": "https://lh3.googleusercontent.com/a-/AOh14GgRJzFx4fqVQJHXjQQXudJ9DDxI9gyaFsy3CjVbI7Q=s64",
      "userId": "11388081409849462561"
     },
     "user_tz": -330
    },
    "id": "FlySE7eoOxn0",
    "outputId": "a2a333d3-4e80-4a97-86e1-4bff6ad029b8"
   },
   "outputs": [],
   "source": [
    "kc_house_price_grp_agg.info()"
   ]
  },
  {
   "cell_type": "code",
   "execution_count": null,
   "metadata": {
    "colab": {
     "base_uri": "https://localhost:8080/"
    },
    "executionInfo": {
     "elapsed": 296,
     "status": "ok",
     "timestamp": 1629960810057,
     "user": {
      "displayName": "Venkata Reddy Konasani",
      "photoUrl": "https://lh3.googleusercontent.com/a-/AOh14GgRJzFx4fqVQJHXjQQXudJ9DDxI9gyaFsy3CjVbI7Q=s64",
      "userId": "11388081409849462561"
     },
     "user_tz": -330
    },
    "id": "pziCAdfFO4mC",
    "outputId": "db7e2791-93b2-4e4f-af58-8214b3ad624d"
   },
   "outputs": [],
   "source": [
    "kc_house_price_grp_agg.columns"
   ]
  },
  {
   "cell_type": "code",
   "execution_count": null,
   "metadata": {
    "colab": {
     "base_uri": "https://localhost:8080/"
    },
    "executionInfo": {
     "elapsed": 328,
     "status": "ok",
     "timestamp": 1629960845704,
     "user": {
      "displayName": "Venkata Reddy Konasani",
      "photoUrl": "https://lh3.googleusercontent.com/a-/AOh14GgRJzFx4fqVQJHXjQQXudJ9DDxI9gyaFsy3CjVbI7Q=s64",
      "userId": "11388081409849462561"
     },
     "user_tz": -330
    },
    "id": "s3oN3mk3O_go",
    "outputId": "c1007726-6d17-4eb1-dc9a-9fca39146e57"
   },
   "outputs": [],
   "source": [
    "kc_house_price_grp_agg[('price', 'mean')]"
   ]
  },
  {
   "cell_type": "markdown",
   "metadata": {},
   "source": [
    "## Group by more than one column"
   ]
  },
  {
   "cell_type": "code",
   "execution_count": null,
   "metadata": {
    "id": "aV7GvJ4wPJHD"
   },
   "outputs": [],
   "source": [
    "kc_house_price_grp_agg1=kc_house_price.groupby([\"condition\",\"floors\"]).agg({'id':['count'],'price':['mean','min', 'max'] })"
   ]
  },
  {
   "cell_type": "code",
   "execution_count": null,
   "metadata": {
    "colab": {
     "base_uri": "https://localhost:8080/",
     "height": 831
    },
    "executionInfo": {
     "elapsed": 7,
     "status": "ok",
     "timestamp": 1629963541473,
     "user": {
      "displayName": "Venkata Reddy Konasani",
      "photoUrl": "https://lh3.googleusercontent.com/a-/AOh14GgRJzFx4fqVQJHXjQQXudJ9DDxI9gyaFsy3CjVbI7Q=s64",
      "userId": "11388081409849462561"
     },
     "user_tz": -330
    },
    "id": "Gx9pfSa-ZZ7G",
    "outputId": "90fff052-c90c-438b-e6d0-7dce6ca2c9b8"
   },
   "outputs": [],
   "source": [
    "kc_house_price_grp_agg1"
   ]
  },
  {
   "cell_type": "code",
   "execution_count": null,
   "metadata": {
    "colab": {
     "base_uri": "https://localhost:8080/"
    },
    "executionInfo": {
     "elapsed": 292,
     "status": "ok",
     "timestamp": 1629963871526,
     "user": {
      "displayName": "Venkata Reddy Konasani",
      "photoUrl": "https://lh3.googleusercontent.com/a-/AOh14GgRJzFx4fqVQJHXjQQXudJ9DDxI9gyaFsy3CjVbI7Q=s64",
      "userId": "11388081409849462561"
     },
     "user_tz": -330
    },
    "id": "CBgkHV0HZcHG",
    "outputId": "eeb6620b-2af5-44cf-c640-d2e57ddbe818"
   },
   "outputs": [],
   "source": [
    "kc_house_price_grp_agg1.columns"
   ]
  },
  {
   "cell_type": "code",
   "execution_count": null,
   "metadata": {
    "colab": {
     "base_uri": "https://localhost:8080/"
    },
    "executionInfo": {
     "elapsed": 314,
     "status": "ok",
     "timestamp": 1629963935056,
     "user": {
      "displayName": "Venkata Reddy Konasani",
      "photoUrl": "https://lh3.googleusercontent.com/a-/AOh14GgRJzFx4fqVQJHXjQQXudJ9DDxI9gyaFsy3CjVbI7Q=s64",
      "userId": "11388081409849462561"
     },
     "user_tz": -330
    },
    "id": "t-7ZvXSwa8WB",
    "outputId": "d7ead09e-5fc5-4773-9614-59ac9a8261aa"
   },
   "outputs": [],
   "source": [
    "kc_house_price_grp_agg1.index"
   ]
  },
  {
   "cell_type": "code",
   "execution_count": null,
   "metadata": {
    "id": "5gw6-BgQauHO"
   },
   "outputs": [],
   "source": [
    "#Updated index\n",
    "kc_house_price_grp_agg1.columns=['count','avg_price','min_price','max_price']\n",
    "kc_house_price_grp_agg1=kc_house_price_grp_agg1.reset_index()"
   ]
  },
  {
   "cell_type": "code",
   "execution_count": null,
   "metadata": {
    "colab": {
     "base_uri": "https://localhost:8080/"
    },
    "executionInfo": {
     "elapsed": 293,
     "status": "ok",
     "timestamp": 1629964115558,
     "user": {
      "displayName": "Venkata Reddy Konasani",
      "photoUrl": "https://lh3.googleusercontent.com/a-/AOh14GgRJzFx4fqVQJHXjQQXudJ9DDxI9gyaFsy3CjVbI7Q=s64",
      "userId": "11388081409849462561"
     },
     "user_tz": -330
    },
    "id": "0BdxymWibfRV",
    "outputId": "4035258d-8e31-4fbf-9edc-cd87500f54c5"
   },
   "outputs": [],
   "source": [
    "kc_house_price_grp_agg1.index"
   ]
  },
  {
   "cell_type": "code",
   "execution_count": null,
   "metadata": {
    "colab": {
     "base_uri": "https://localhost:8080/",
     "height": 768
    },
    "executionInfo": {
     "elapsed": 327,
     "status": "ok",
     "timestamp": 1629964161793,
     "user": {
      "displayName": "Venkata Reddy Konasani",
      "photoUrl": "https://lh3.googleusercontent.com/a-/AOh14GgRJzFx4fqVQJHXjQQXudJ9DDxI9gyaFsy3CjVbI7Q=s64",
      "userId": "11388081409849462561"
     },
     "user_tz": -330
    },
    "id": "KWWYRWL6bj3G",
    "outputId": "fcbb61ac-aba9-4dcc-d178-22d6323345eb"
   },
   "outputs": [],
   "source": [
    "kc_house_price_grp_agg1"
   ]
  },
  {
   "cell_type": "markdown",
   "metadata": {
    "id": "hR8z_5UGyO9C"
   },
   "source": [
    "# LAB: Group by and Aggregate"
   ]
  },
  {
   "cell_type": "code",
   "execution_count": null,
   "metadata": {},
   "outputs": [],
   "source": [
    "#rossmann_sales=pd.read_csv(\"https://raw.githubusercontent.com/venkatareddykonasani/Datasets/master/Rossmann_Store_Sales/Rossmann_Store_Sales.zip\", compression=\"zip\")\n",
    "rossmann_sales=pd.read_csv(data_path+\"Rossmann_Store_Sales.zip\", compression=\"zip\")"
   ]
  },
  {
   "cell_type": "markdown",
   "metadata": {},
   "source": [
    "## mixed data - Low memory=False solution "
   ]
  },
  {
   "cell_type": "code",
   "execution_count": null,
   "metadata": {},
   "outputs": [],
   "source": [
    "'''\n",
    "CSV file gets split up in multiple chunks and the guess is done for every chunk, \n",
    "resulting in a column with multiple dtypes\n",
    "''''''"
   ]
  },
  {
   "cell_type": "code",
   "execution_count": null,
   "metadata": {},
   "outputs": [],
   "source": [
    "rossmann_sales1=pd.read_csv(data_path+\"Rossmann_Store_Sales.zip\", compression=\"zip\", low_memory=False)"
   ]
  },
  {
   "cell_type": "code",
   "execution_count": null,
   "metadata": {},
   "outputs": [],
   "source": [
    "rossmann_sales1.info()"
   ]
  },
  {
   "cell_type": "code",
   "execution_count": null,
   "metadata": {
    "colab": {
     "base_uri": "https://localhost:8080/"
    },
    "executionInfo": {
     "elapsed": 438,
     "status": "ok",
     "timestamp": 1629971978458,
     "user": {
      "displayName": "Venkata Reddy Konasani",
      "photoUrl": "https://lh3.googleusercontent.com/a-/AOh14GgRJzFx4fqVQJHXjQQXudJ9DDxI9gyaFsy3CjVbI7Q=s64",
      "userId": "11388081409849462561"
     },
     "user_tz": -330
    },
    "id": "ST-uwonWyQgQ",
    "outputId": "1be98342-3d5f-4bb5-d64f-a37a38f19d3c"
   },
   "outputs": [],
   "source": [
    "rossmann_sales.info()"
   ]
  },
  {
   "cell_type": "markdown",
   "metadata": {},
   "source": [
    "##  mixed data - dtype solution"
   ]
  },
  {
   "cell_type": "code",
   "execution_count": null,
   "metadata": {},
   "outputs": [],
   "source": [
    "rossmann_sales2=pd.read_csv(data_path+\"Rossmann_Store_Sales.zip\", compression=\"zip\",dtype = {\"StateHoliday\":\"string\", \"PromoInterval\":\"string\"})"
   ]
  },
  {
   "cell_type": "code",
   "execution_count": null,
   "metadata": {},
   "outputs": [],
   "source": [
    "rossmann_sales2"
   ]
  },
  {
   "cell_type": "code",
   "execution_count": null,
   "metadata": {
    "colab": {
     "base_uri": "https://localhost:8080/",
     "height": 325
    },
    "executionInfo": {
     "elapsed": 407,
     "status": "ok",
     "timestamp": 1629972064213,
     "user": {
      "displayName": "Venkata Reddy Konasani",
      "photoUrl": "https://lh3.googleusercontent.com/a-/AOh14GgRJzFx4fqVQJHXjQQXudJ9DDxI9gyaFsy3CjVbI7Q=s64",
      "userId": "11388081409849462561"
     },
     "user_tz": -330
    },
    "id": "jTxrtkFq4oLn",
    "outputId": "274e7814-83d7-4398-ddd2-f8bf5545d9ec"
   },
   "outputs": [],
   "source": [
    "rossmann_sales.groupby(\"DayOfWeek\").agg({'Sales':['mean']})"
   ]
  },
  {
   "cell_type": "code",
   "execution_count": null,
   "metadata": {
    "colab": {
     "base_uri": "https://localhost:8080/",
     "height": 202
    },
    "executionInfo": {
     "elapsed": 411,
     "status": "ok",
     "timestamp": 1629972224263,
     "user": {
      "displayName": "Venkata Reddy Konasani",
      "photoUrl": "https://lh3.googleusercontent.com/a-/AOh14GgRJzFx4fqVQJHXjQQXudJ9DDxI9gyaFsy3CjVbI7Q=s64",
      "userId": "11388081409849462561"
     },
     "user_tz": -330
    },
    "id": "_ZojChZl5ieY",
    "outputId": "d8cb98a8-89b1-4a86-a8df-f065f6eed0f7"
   },
   "outputs": [],
   "source": [
    "rossmann_sales.groupby(\"Assortment\").agg({'Sales':['median'], 'Customers':['median']})"
   ]
  },
  {
   "cell_type": "code",
   "execution_count": null,
   "metadata": {
    "colab": {
     "base_uri": "https://localhost:8080/",
     "height": 387
    },
    "executionInfo": {
     "elapsed": 416,
     "status": "ok",
     "timestamp": 1629972992881,
     "user": {
      "displayName": "Venkata Reddy Konasani",
      "photoUrl": "https://lh3.googleusercontent.com/a-/AOh14GgRJzFx4fqVQJHXjQQXudJ9DDxI9gyaFsy3CjVbI7Q=s64",
      "userId": "11388081409849462561"
     },
     "user_tz": -330
    },
    "id": "zm0FCUnN5wC6",
    "outputId": "1e72118f-ad9f-4a0d-c93f-04bb6b7da313"
   },
   "outputs": [],
   "source": [
    "rossmann_sales_groups=rossmann_sales.groupby([\"StoreType\",\"Assortment\"]).agg({'CompetitionDistance':['mean','min','max'], 'Sales':['mean','min','max'],'Customers':['mean','min','max'] })\n",
    "rossmann_sales_groups"
   ]
  },
  {
   "cell_type": "code",
   "execution_count": null,
   "metadata": {
    "colab": {
     "base_uri": "https://localhost:8080/",
     "height": 325
    },
    "executionInfo": {
     "elapsed": 436,
     "status": "ok",
     "timestamp": 1629973000732,
     "user": {
      "displayName": "Venkata Reddy Konasani",
      "photoUrl": "https://lh3.googleusercontent.com/a-/AOh14GgRJzFx4fqVQJHXjQQXudJ9DDxI9gyaFsy3CjVbI7Q=s64",
      "userId": "11388081409849462561"
     },
     "user_tz": -330
    },
    "id": "7EWHjCb77iq5",
    "outputId": "f26d9771-cb4c-493d-af38-00af412ad54d"
   },
   "outputs": [],
   "source": [
    "rossmann_sales_groups.columns=[\"CD_Avg\", \"CD_min\", \"CD_max\", \"Sales_Avg\", \"Sales_min\", \"Sales_max\", \"Cust_avg\", \"Cust_min\", \"Cust_mx\" ]\n",
    "rossmann_sales_groups=rossmann_sales_groups.reset_index()\n",
    "rossmann_sales_groups"
   ]
  },
  {
   "cell_type": "markdown",
   "metadata": {
    "id": "MREWYTRZ_NzE"
   },
   "source": [
    "# Cross-tabs and Pivot tables"
   ]
  },
  {
   "cell_type": "code",
   "execution_count": null,
   "metadata": {
    "colab": {
     "base_uri": "https://localhost:8080/",
     "height": 435
    },
    "executionInfo": {
     "elapsed": 415,
     "status": "ok",
     "timestamp": 1629982850859,
     "user": {
      "displayName": "Venkata Reddy Konasani",
      "photoUrl": "https://lh3.googleusercontent.com/a-/AOh14GgRJzFx4fqVQJHXjQQXudJ9DDxI9gyaFsy3CjVbI7Q=s64",
      "userId": "11388081409849462561"
     },
     "user_tz": -330
    },
    "id": "BhgTKbgI9aA9",
    "outputId": "ea273857-1dfe-420c-9e99-caafc86a2ff9"
   },
   "outputs": [],
   "source": [
    "bank_data"
   ]
  },
  {
   "cell_type": "code",
   "execution_count": null,
   "metadata": {
    "colab": {
     "base_uri": "https://localhost:8080/",
     "height": 202
    },
    "executionInfo": {
     "elapsed": 418,
     "status": "ok",
     "timestamp": 1629983440010,
     "user": {
      "displayName": "Venkata Reddy Konasani",
      "photoUrl": "https://lh3.googleusercontent.com/a-/AOh14GgRJzFx4fqVQJHXjQQXudJ9DDxI9gyaFsy3CjVbI7Q=s64",
      "userId": "11388081409849462561"
     },
     "user_tz": -330
    },
    "id": "s7RYXmuwi94L",
    "outputId": "6a134bb0-0f29-4e4c-c18c-87c3c46eaee2"
   },
   "outputs": [],
   "source": [
    "pd.crosstab(index=bank_data['education'], columns=bank_data['y'])"
   ]
  },
  {
   "cell_type": "code",
   "execution_count": null,
   "metadata": {},
   "outputs": [],
   "source": [
    "pd.crosstab(index=bank_data['education'], columns=bank_data['y']).apply(lambda x: x*100/x.sum())"
   ]
  },
  {
   "cell_type": "code",
   "execution_count": null,
   "metadata": {
    "colab": {
     "base_uri": "https://localhost:8080/",
     "height": 202
    },
    "executionInfo": {
     "elapsed": 532,
     "status": "ok",
     "timestamp": 1629983453889,
     "user": {
      "displayName": "Venkata Reddy Konasani",
      "photoUrl": "https://lh3.googleusercontent.com/a-/AOh14GgRJzFx4fqVQJHXjQQXudJ9DDxI9gyaFsy3CjVbI7Q=s64",
      "userId": "11388081409849462561"
     },
     "user_tz": -330
    },
    "id": "k-MlvxeCjrg8",
    "outputId": "068c61ab-9c5b-4208-be1b-7fc57f21cf87"
   },
   "outputs": [],
   "source": [
    "pd.crosstab(index=bank_data['education'], columns=bank_data['y']).apply(lambda x: x*100/x.sum(), axis=1)"
   ]
  },
  {
   "cell_type": "code",
   "execution_count": null,
   "metadata": {
    "colab": {
     "base_uri": "https://localhost:8080/",
     "height": 448
    },
    "executionInfo": {
     "elapsed": 432,
     "status": "ok",
     "timestamp": 1629983461613,
     "user": {
      "displayName": "Venkata Reddy Konasani",
      "photoUrl": "https://lh3.googleusercontent.com/a-/AOh14GgRJzFx4fqVQJHXjQQXudJ9DDxI9gyaFsy3CjVbI7Q=s64",
      "userId": "11388081409849462561"
     },
     "user_tz": -330
    },
    "id": "IiUVpDZwkF2A",
    "outputId": "2bf94d2e-c38c-41ce-c3ab-704e81295da7"
   },
   "outputs": [],
   "source": [
    "pd.crosstab(index=bank_data['job'], columns=bank_data['y']).apply(lambda x: x*100/x.sum(), axis=1)"
   ]
  },
  {
   "cell_type": "markdown",
   "metadata": {},
   "source": [
    "## Pivot table"
   ]
  },
  {
   "cell_type": "code",
   "execution_count": null,
   "metadata": {
    "colab": {
     "base_uri": "https://localhost:8080/",
     "height": 448
    },
    "executionInfo": {
     "elapsed": 449,
     "status": "ok",
     "timestamp": 1629987173145,
     "user": {
      "displayName": "Venkata Reddy Konasani",
      "photoUrl": "https://lh3.googleusercontent.com/a-/AOh14GgRJzFx4fqVQJHXjQQXudJ9DDxI9gyaFsy3CjVbI7Q=s64",
      "userId": "11388081409849462561"
     },
     "user_tz": -330
    },
    "id": "YSxNf-3EkiZw",
    "outputId": "a459b017-00d2-4f92-c897-4241f13a00e7"
   },
   "outputs": [],
   "source": [
    "pd.pivot_table(data=bank_data, index='job', columns='y', values='Cust_num', aggfunc='count')"
   ]
  },
  {
   "cell_type": "code",
   "execution_count": null,
   "metadata": {
    "colab": {
     "base_uri": "https://localhost:8080/",
     "height": 448
    },
    "executionInfo": {
     "elapsed": 421,
     "status": "ok",
     "timestamp": 1629987188005,
     "user": {
      "displayName": "Venkata Reddy Konasani",
      "photoUrl": "https://lh3.googleusercontent.com/a-/AOh14GgRJzFx4fqVQJHXjQQXudJ9DDxI9gyaFsy3CjVbI7Q=s64",
      "userId": "11388081409849462561"
     },
     "user_tz": -330
    },
    "id": "SSyzI_yOrgBX",
    "outputId": "a35a7153-553f-44df-fb91-f4ee97d10537"
   },
   "outputs": [],
   "source": [
    "pd.pivot_table(data=bank_data, index='job', columns='y', values='Cust_num', aggfunc='count').apply(lambda x: x*100/x.sum(), axis=1)"
   ]
  },
  {
   "cell_type": "code",
   "execution_count": null,
   "metadata": {
    "colab": {
     "base_uri": "https://localhost:8080/",
     "height": 448
    },
    "executionInfo": {
     "elapsed": 392,
     "status": "ok",
     "timestamp": 1629987204613,
     "user": {
      "displayName": "Venkata Reddy Konasani",
      "photoUrl": "https://lh3.googleusercontent.com/a-/AOh14GgRJzFx4fqVQJHXjQQXudJ9DDxI9gyaFsy3CjVbI7Q=s64",
      "userId": "11388081409849462561"
     },
     "user_tz": -330
    },
    "id": "1H-yn8wHzqjx",
    "outputId": "09accaf4-6441-4cfa-a078-9500edb214ce"
   },
   "outputs": [],
   "source": [
    "pd.pivot_table(data=bank_data, index='job', columns='y', values='balance', aggfunc='mean')"
   ]
  },
  {
   "cell_type": "markdown",
   "metadata": {
    "id": "EuTeQ4uv11hr"
   },
   "source": [
    "# LAB : Crosstab and Pivots"
   ]
  },
  {
   "cell_type": "code",
   "execution_count": null,
   "metadata": {
    "colab": {
     "base_uri": "https://localhost:8080/"
    },
    "executionInfo": {
     "elapsed": 583,
     "status": "ok",
     "timestamp": 1629987916344,
     "user": {
      "displayName": "Venkata Reddy Konasani",
      "photoUrl": "https://lh3.googleusercontent.com/a-/AOh14GgRJzFx4fqVQJHXjQQXudJ9DDxI9gyaFsy3CjVbI7Q=s64",
      "userId": "11388081409849462561"
     },
     "user_tz": -330
    },
    "id": "_IxAPGl62akt",
    "outputId": "d127654b-7dc3-45b2-e35b-6c9543e12caa"
   },
   "outputs": [],
   "source": [
    "rossmann_sales.info()"
   ]
  },
  {
   "cell_type": "code",
   "execution_count": null,
   "metadata": {
    "colab": {
     "base_uri": "https://localhost:8080/",
     "height": 294
    },
    "executionInfo": {
     "elapsed": 467,
     "status": "ok",
     "timestamp": 1629988092224,
     "user": {
      "displayName": "Venkata Reddy Konasani",
      "photoUrl": "https://lh3.googleusercontent.com/a-/AOh14GgRJzFx4fqVQJHXjQQXudJ9DDxI9gyaFsy3CjVbI7Q=s64",
      "userId": "11388081409849462561"
     },
     "user_tz": -330
    },
    "id": "OtCnVXAh2UiZ",
    "outputId": "d63c75a7-186d-4893-a786-77b632a33a0c"
   },
   "outputs": [],
   "source": [
    "pd.crosstab(index=rossmann_sales['DayOfWeek'], columns=rossmann_sales['Promo'])"
   ]
  },
  {
   "cell_type": "code",
   "execution_count": null,
   "metadata": {
    "colab": {
     "base_uri": "https://localhost:8080/",
     "height": 294
    },
    "executionInfo": {
     "elapsed": 442,
     "status": "ok",
     "timestamp": 1629988227011,
     "user": {
      "displayName": "Venkata Reddy Konasani",
      "photoUrl": "https://lh3.googleusercontent.com/a-/AOh14GgRJzFx4fqVQJHXjQQXudJ9DDxI9gyaFsy3CjVbI7Q=s64",
      "userId": "11388081409849462561"
     },
     "user_tz": -330
    },
    "id": "iMutf9Yxzunx",
    "outputId": "b26a20f4-e1df-4570-ab30-361bfba599e8"
   },
   "outputs": [],
   "source": [
    "pd.pivot_table(rossmann_sales,values='Sales', index='DayOfWeek', columns='StoreType', aggfunc=\"mean\")"
   ]
  },
  {
   "cell_type": "code",
   "execution_count": null,
   "metadata": {
    "colab": {
     "base_uri": "https://localhost:8080/"
    },
    "executionInfo": {
     "elapsed": 7,
     "status": "ok",
     "timestamp": 1629988400705,
     "user": {
      "displayName": "Venkata Reddy Konasani",
      "photoUrl": "https://lh3.googleusercontent.com/a-/AOh14GgRJzFx4fqVQJHXjQQXudJ9DDxI9gyaFsy3CjVbI7Q=s64",
      "userId": "11388081409849462561"
     },
     "user_tz": -330
    },
    "id": "3WZPS2HH2Jz3",
    "outputId": "28624a9e-8a0c-4c67-a0bb-2172e3bcb5e1"
   },
   "outputs": [],
   "source": [
    "cc_usage.info()"
   ]
  },
  {
   "cell_type": "code",
   "execution_count": null,
   "metadata": {
    "colab": {
     "base_uri": "https://localhost:8080/",
     "height": 202
    },
    "executionInfo": {
     "elapsed": 437,
     "status": "ok",
     "timestamp": 1629988573445,
     "user": {
      "displayName": "Venkata Reddy Konasani",
      "photoUrl": "https://lh3.googleusercontent.com/a-/AOh14GgRJzFx4fqVQJHXjQQXudJ9DDxI9gyaFsy3CjVbI7Q=s64",
      "userId": "11388081409849462561"
     },
     "user_tz": -330
    },
    "id": "Eu67Bdeo4SkO",
    "outputId": "5827f801-4517-414f-a013-5814d02e26af"
   },
   "outputs": [],
   "source": [
    "pd.pivot_table(cc_usage,values='CLIENTNUM', index='Card_Category', columns='Attrition_Flag', aggfunc=\"count\")"
   ]
  },
  {
   "cell_type": "code",
   "execution_count": null,
   "metadata": {
    "colab": {
     "base_uri": "https://localhost:8080/",
     "height": 202
    },
    "executionInfo": {
     "elapsed": 422,
     "status": "ok",
     "timestamp": 1629988603125,
     "user": {
      "displayName": "Venkata Reddy Konasani",
      "photoUrl": "https://lh3.googleusercontent.com/a-/AOh14GgRJzFx4fqVQJHXjQQXudJ9DDxI9gyaFsy3CjVbI7Q=s64",
      "userId": "11388081409849462561"
     },
     "user_tz": -330
    },
    "id": "KR1R7i6M48y2",
    "outputId": "e199045d-351e-4e04-bbda-716fe4db1625"
   },
   "outputs": [],
   "source": [
    "pd.pivot_table(cc_usage,values='CLIENTNUM', index='Card_Category', columns='Attrition_Flag', aggfunc=\"count\").apply(lambda x: x*100/x.sum(), axis=1)"
   ]
  },
  {
   "cell_type": "code",
   "execution_count": null,
   "metadata": {
    "colab": {
     "base_uri": "https://localhost:8080/",
     "height": 202
    },
    "executionInfo": {
     "elapsed": 433,
     "status": "ok",
     "timestamp": 1629988940745,
     "user": {
      "displayName": "Venkata Reddy Konasani",
      "photoUrl": "https://lh3.googleusercontent.com/a-/AOh14GgRJzFx4fqVQJHXjQQXudJ9DDxI9gyaFsy3CjVbI7Q=s64",
      "userId": "11388081409849462561"
     },
     "user_tz": -330
    },
    "id": "W6asWluQ5EDB",
    "outputId": "f8bd3495-b588-4b7c-cea4-862e0bec7e96"
   },
   "outputs": [],
   "source": [
    "pd.pivot_table(cc_usage,values='Total_Trans_Amt', index='Card_Category', columns='Attrition_Flag', aggfunc=\"mean\")"
   ]
  },
  {
   "cell_type": "markdown",
   "metadata": {
    "id": "VQvPQb32_33Y"
   },
   "source": [
    "# Dask"
   ]
  },
  {
   "cell_type": "code",
   "execution_count": null,
   "metadata": {},
   "outputs": [],
   "source": [
    "#!pip install dask"
   ]
  },
  {
   "cell_type": "code",
   "execution_count": null,
   "metadata": {},
   "outputs": [],
   "source": [
    "import pandas as pd\n",
    "%time taxi_fare_pd = pd.read_csv(r\"D:\\Kaggle\\Taxi\\Data\\train.csv\") "
   ]
  },
  {
   "cell_type": "code",
   "execution_count": null,
   "metadata": {},
   "outputs": [],
   "source": [
    "import dask.dataframe as dd\n",
    "%time taxi_fare_dd = dd.read_csv(r\"D:\\Kaggle\\Taxi\\Data\\train.csv\") "
   ]
  },
  {
   "cell_type": "code",
   "execution_count": null,
   "metadata": {},
   "outputs": [],
   "source": [
    "taxi_fare_dd"
   ]
  },
  {
   "cell_type": "code",
   "execution_count": null,
   "metadata": {},
   "outputs": [],
   "source": [
    "from dask.distributed import Client, progress\n",
    "client = Client()\n",
    "client"
   ]
  },
  {
   "cell_type": "code",
   "execution_count": null,
   "metadata": {},
   "outputs": [],
   "source": [
    "%time taxi_fare_dd.shape[0].compute()"
   ]
  },
  {
   "cell_type": "code",
   "execution_count": null,
   "metadata": {},
   "outputs": [],
   "source": [
    "taxi_fare_dd.head()"
   ]
  },
  {
   "cell_type": "code",
   "execution_count": null,
   "metadata": {
    "id": "w_jZW69y_3DO"
   },
   "outputs": [],
   "source": [
    "taxi_fare_dd.tail()"
   ]
  },
  {
   "cell_type": "code",
   "execution_count": null,
   "metadata": {},
   "outputs": [],
   "source": [
    "%time taxi_fare_dd[\"fare_amount\"].mean().compute()"
   ]
  },
  {
   "cell_type": "code",
   "execution_count": null,
   "metadata": {},
   "outputs": [],
   "source": [
    "taxi_fare_dd_sample=taxi_fare_dd.sample(frac=0.02)"
   ]
  },
  {
   "cell_type": "code",
   "execution_count": null,
   "metadata": {},
   "outputs": [],
   "source": [
    "taxi_fare_dd_pd_sample=taxi_fare_dd_sample.compute()\n",
    "taxi_fare_dd_pd_sample.shape"
   ]
  },
  {
   "cell_type": "code",
   "execution_count": null,
   "metadata": {},
   "outputs": [],
   "source": [
    "taxi_fare_dd_pd_sample"
   ]
  },
  {
   "cell_type": "code",
   "execution_count": null,
   "metadata": {},
   "outputs": [],
   "source": []
  }
 ],
 "metadata": {
  "colab": {
   "authorship_tag": "ABX9TyNAo/E/q/tIICU0MBuAXPHQ",
   "collapsed_sections": [
    "nbeSOI_8e1qM",
    "1m2sfSS9TCM-",
    "GWtvAmTUliWb",
    "Ldu39QSMuMlF",
    "G7jITKYm0wuk",
    "IIXlR2gbM6UD",
    "qViqcaIOSaXW",
    "s5SPldTcQff0"
   ],
   "name": "Pandas_v2.ipynb",
   "provenance": [
    {
     "file_id": "1gFmzjShyDCc53Yqivf7Fw5vNYqkBAjCm",
     "timestamp": 1629970352954
    }
   ],
   "toc_visible": true
  },
  "kernelspec": {
   "display_name": "Python 3",
   "language": "python",
   "name": "python3"
  },
  "language_info": {
   "codemirror_mode": {
    "name": "ipython",
    "version": 3
   },
   "file_extension": ".py",
   "mimetype": "text/x-python",
   "name": "python",
   "nbconvert_exporter": "python",
   "pygments_lexer": "ipython3",
   "version": "3.8.8"
  },
  "toc": {
   "base_numbering": 1,
   "nav_menu": {},
   "number_sections": true,
   "sideBar": true,
   "skip_h1_title": false,
   "title_cell": "Table of Contents",
   "title_sidebar": "Contents",
   "toc_cell": false,
   "toc_position": {
    "height": "calc(100% - 180px)",
    "left": "10px",
    "top": "150px",
    "width": "303.83px"
   },
   "toc_section_display": true,
   "toc_window_display": true
  }
 },
 "nbformat": 4,
 "nbformat_minor": 1
}
